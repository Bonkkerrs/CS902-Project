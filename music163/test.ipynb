{
 "cells": [
  {
   "cell_type": "code",
   "execution_count": 11,
   "metadata": {
    "collapsed": true
   },
   "outputs": [],
   "source": [
    "from plugins.DecryptLogin import login\n",
    "from plugins.DecryptLogin.modules.core.music163 import Cracker\n",
    "import re"
   ]
  },
  {
   "cell_type": "code",
   "execution_count": 8,
   "outputs": [],
   "source": [
    "class NeteaseSignin():\n",
    "    def __init__(self, username, password, **kwargs):\n",
    "        self.username = username\n",
    "        self.session = NeteaseSignin.login(username, password)\n",
    "        self.csrf = re.findall('__csrf=(.*?) for', str(self.session.cookies))[0]\n",
    "        self.cracker = Cracker()\n",
    "        self.headers = {\n",
    "            'User-Agent': 'Mozilla/5.0 (Windows NT 10.0; Win64; x64) AppleWebKit/537.36 (KHTML, like Gecko) Chrome/79.0.3945.130 Safari/537.36',\n",
    "            'Content-Type': 'application/x-www-form-urlencoded',\n",
    "            'Referer': 'http://music.163.com/discover',\n",
    "            'Accept': '*/*'\n",
    "        }\n",
    "\n",
    "    @staticmethod\n",
    "    def login(username, password):\n",
    "        lg = login.Login()\n",
    "        _, session = lg.music163(username, password)\n",
    "        return session"
   ],
   "metadata": {
    "collapsed": false,
    "pycharm": {
     "name": "#%%\n"
    }
   }
  },
  {
   "cell_type": "code",
   "execution_count": 13,
   "outputs": [
    {
     "name": "stdout",
     "output_type": "stream",
     "text": [
      "Welcome to use DecryptLogin!\n",
      "You can visit https://github.com/CharlesPikachu/DecryptLogin for more details.\n",
      "[INFO]: Account -> 17682462639, login successfully\n"
     ]
    }
   ],
   "source": [
    "user = NeteaseSignin(username='17682462639',password='djavid1802')"
   ],
   "metadata": {
    "collapsed": false,
    "pycharm": {
     "name": "#%%\n"
    }
   }
  },
  {
   "cell_type": "code",
   "execution_count": 15,
   "outputs": [
    {
     "data": {
      "text/plain": "'976b990e2228b2722b70b6332dfa1cf2'"
     },
     "execution_count": 15,
     "metadata": {},
     "output_type": "execute_result"
    }
   ],
   "source": [
    "user.csrf"
   ],
   "metadata": {
    "collapsed": false,
    "pycharm": {
     "name": "#%%\n"
    }
   }
  },
  {
   "cell_type": "code",
   "execution_count": 17,
   "outputs": [
    {
     "data": {
      "text/plain": "{'username': '17682462639',\n 'session': <requests.sessions.Session at 0x7fe540a422b0>,\n 'csrf': '976b990e2228b2722b70b6332dfa1cf2',\n 'cracker': <plugins.DecryptLogin.modules.core.music163.Cracker at 0x7fe520698e80>,\n 'headers': {'User-Agent': 'Mozilla/5.0 (Windows NT 10.0; Win64; x64) AppleWebKit/537.36 (KHTML, like Gecko) Chrome/79.0.3945.130 Safari/537.36',\n  'Content-Type': 'application/x-www-form-urlencoded',\n  'Referer': 'http://music.163.com/discover',\n  'Accept': '*/*'}}"
     },
     "execution_count": 17,
     "metadata": {},
     "output_type": "execute_result"
    }
   ],
   "source": [
    "user.__dict__"
   ],
   "metadata": {
    "collapsed": false,
    "pycharm": {
     "name": "#%%\n"
    }
   }
  },
  {
   "cell_type": "code",
   "execution_count": 22,
   "outputs": [
    {
     "data": {
      "text/plain": "{'params': b'1Odla5tm2WE/sxHH7iifaGNovs8zLe0x0tiIHCKo9W4=',\n 'encSecKey': '35cc1a42b6e5f818ece0cdb3b62a5859405185cb1a95b2c6aadfe992067ab0e1671ba5f633a3cc8aaa598e9742364788a92764e38bf9fb52d7835083d05b7def13e47ae50c5644fd9a32b6574de0d2ff5680b8657c4775f85eff7b42bf3bcec08b4f4073a2345fedb99695a3ff5b8bebfd04dd8e7eec37dc5c900f77598f2346'}"
     },
     "execution_count": 22,
     "metadata": {},
     "output_type": "execute_result"
    }
   ],
   "source": [
    "user.cracker.get('67259702')"
   ],
   "metadata": {
    "collapsed": false,
    "pycharm": {
     "name": "#%%\n"
    }
   }
  },
  {
   "cell_type": "code",
   "execution_count": 23,
   "outputs": [],
   "source": [
    "# data = {\n",
    "#     \"offset\": offset,\n",
    "#     \"uid\": self.userid,\n",
    "#     \"limit\": 50,\n",
    "#     \"csrf_token\": self.csrf\n",
    "# }"
   ],
   "metadata": {
    "collapsed": false,
    "pycharm": {
     "name": "#%%\n"
    }
   }
  },
  {
   "cell_type": "code",
   "execution_count": 24,
   "outputs": [
    {
     "data": {
      "text/plain": "<requests.sessions.Session at 0x7fe540a422b0>"
     },
     "execution_count": 24,
     "metadata": {},
     "output_type": "execute_result"
    }
   ],
   "source": [
    "session = user.session\n",
    "session"
   ],
   "metadata": {
    "collapsed": false,
    "pycharm": {
     "name": "#%%\n"
    }
   }
  },
  {
   "cell_type": "code",
   "execution_count": 25,
   "outputs": [],
   "source": [],
   "metadata": {
    "collapsed": false,
    "pycharm": {
     "name": "#%%\n"
    }
   }
  },
  {
   "cell_type": "code",
   "execution_count": null,
   "outputs": [],
   "source": [],
   "metadata": {
    "collapsed": false,
    "pycharm": {
     "name": "#%%\n"
    }
   }
  }
 ],
 "metadata": {
  "kernelspec": {
   "display_name": "Python 3",
   "language": "python",
   "name": "python3"
  },
  "language_info": {
   "codemirror_mode": {
    "name": "ipython",
    "version": 2
   },
   "file_extension": ".py",
   "mimetype": "text/x-python",
   "name": "python",
   "nbconvert_exporter": "python",
   "pygments_lexer": "ipython2",
   "version": "2.7.6"
  }
 },
 "nbformat": 4,
 "nbformat_minor": 0
}