{
 "cells": [
  {
   "cell_type": "markdown",
   "source": [
    "#  一、快速显示一组静态图像形成动画\n",
    "```\n",
    "Canvas下载yupan.rar并解压，得到23个图像文件（yupanN.gif）。在画布上按次序逐一显示这些图像。\n",
    "注意：一幅图像显示过后最好从画布上删除，以免画布上item过多，尤其是在循环播放动画的情况下。另外注意图像文件存储路径，最好与程序文件存储在一个目录，这样PhotoImage(file=...)中就无需指明图像文件路径，用文件名即可。（文件名有规律哦，你不会用23条语句来创建图像对象吧？）\n",
    "```"
   ],
   "metadata": {
    "collapsed": false
   }
  },
  {
   "cell_type": "code",
   "execution_count": 6,
   "outputs": [
    {
     "ename": "TclError",
     "evalue": "image \"pyimage3\" doesn't exist",
     "output_type": "error",
     "traceback": [
      "\u001B[0;31m---------------------------------------------------------------------------\u001B[0m",
      "\u001B[0;31mTclError\u001B[0m                                  Traceback (most recent call last)",
      "\u001B[0;32m<ipython-input-6-3cd893b3f377>\u001B[0m in \u001B[0;36m<module>\u001B[0;34m\u001B[0m\n\u001B[1;32m     11\u001B[0m \u001B[0;32mwhile\u001B[0m \u001B[0;32mTrue\u001B[0m\u001B[0;34m:\u001B[0m\u001B[0;34m\u001B[0m\u001B[0;34m\u001B[0m\u001B[0m\n\u001B[1;32m     12\u001B[0m     \u001B[0;32mfor\u001B[0m \u001B[0mi\u001B[0m \u001B[0;32min\u001B[0m \u001B[0mrange\u001B[0m\u001B[0;34m(\u001B[0m\u001B[0;36m23\u001B[0m\u001B[0;34m)\u001B[0m\u001B[0;34m:\u001B[0m\u001B[0;34m\u001B[0m\u001B[0;34m\u001B[0m\u001B[0m\n\u001B[0;32m---> 13\u001B[0;31m         \u001B[0mim\u001B[0m \u001B[0;34m=\u001B[0m \u001B[0mc\u001B[0m\u001B[0;34m.\u001B[0m\u001B[0mcreate_image\u001B[0m\u001B[0;34m(\u001B[0m\u001B[0;36m200\u001B[0m\u001B[0;34m,\u001B[0m\u001B[0;36m150\u001B[0m\u001B[0;34m,\u001B[0m\u001B[0mimage\u001B[0m\u001B[0;34m=\u001B[0m\u001B[0mimglist\u001B[0m\u001B[0;34m[\u001B[0m\u001B[0mi\u001B[0m\u001B[0;34m]\u001B[0m\u001B[0;34m)\u001B[0m\u001B[0;34m\u001B[0m\u001B[0;34m\u001B[0m\u001B[0m\n\u001B[0m\u001B[1;32m     14\u001B[0m         \u001B[0mc\u001B[0m\u001B[0;34m.\u001B[0m\u001B[0mupdate\u001B[0m\u001B[0;34m(\u001B[0m\u001B[0;34m)\u001B[0m\u001B[0;34m\u001B[0m\u001B[0;34m\u001B[0m\u001B[0m\n\u001B[1;32m     15\u001B[0m         \u001B[0mc\u001B[0m\u001B[0;34m.\u001B[0m\u001B[0mdelete\u001B[0m\u001B[0;34m(\u001B[0m\u001B[0mim\u001B[0m\u001B[0;34m)\u001B[0m\u001B[0;34m\u001B[0m\u001B[0;34m\u001B[0m\u001B[0m\n",
      "\u001B[0;32m~/opt/anaconda3/lib/python3.8/tkinter/__init__.py\u001B[0m in \u001B[0;36mcreate_image\u001B[0;34m(self, *args, **kw)\u001B[0m\n\u001B[1;32m   2788\u001B[0m     \u001B[0;32mdef\u001B[0m \u001B[0mcreate_image\u001B[0m\u001B[0;34m(\u001B[0m\u001B[0mself\u001B[0m\u001B[0;34m,\u001B[0m \u001B[0;34m*\u001B[0m\u001B[0margs\u001B[0m\u001B[0;34m,\u001B[0m \u001B[0;34m**\u001B[0m\u001B[0mkw\u001B[0m\u001B[0;34m)\u001B[0m\u001B[0;34m:\u001B[0m\u001B[0;34m\u001B[0m\u001B[0;34m\u001B[0m\u001B[0m\n\u001B[1;32m   2789\u001B[0m         \u001B[0;34m\"\"\"Create image item with coordinates x1,y1.\"\"\"\u001B[0m\u001B[0;34m\u001B[0m\u001B[0;34m\u001B[0m\u001B[0m\n\u001B[0;32m-> 2790\u001B[0;31m         \u001B[0;32mreturn\u001B[0m \u001B[0mself\u001B[0m\u001B[0;34m.\u001B[0m\u001B[0m_create\u001B[0m\u001B[0;34m(\u001B[0m\u001B[0;34m'image'\u001B[0m\u001B[0;34m,\u001B[0m \u001B[0margs\u001B[0m\u001B[0;34m,\u001B[0m \u001B[0mkw\u001B[0m\u001B[0;34m)\u001B[0m\u001B[0;34m\u001B[0m\u001B[0;34m\u001B[0m\u001B[0m\n\u001B[0m\u001B[1;32m   2791\u001B[0m \u001B[0;34m\u001B[0m\u001B[0m\n\u001B[1;32m   2792\u001B[0m     \u001B[0;32mdef\u001B[0m \u001B[0mcreate_line\u001B[0m\u001B[0;34m(\u001B[0m\u001B[0mself\u001B[0m\u001B[0;34m,\u001B[0m \u001B[0;34m*\u001B[0m\u001B[0margs\u001B[0m\u001B[0;34m,\u001B[0m \u001B[0;34m**\u001B[0m\u001B[0mkw\u001B[0m\u001B[0;34m)\u001B[0m\u001B[0;34m:\u001B[0m\u001B[0;34m\u001B[0m\u001B[0;34m\u001B[0m\u001B[0m\n",
      "\u001B[0;32m~/opt/anaconda3/lib/python3.8/tkinter/__init__.py\u001B[0m in \u001B[0;36m_create\u001B[0;34m(self, itemType, args, kw)\u001B[0m\n\u001B[1;32m   2774\u001B[0m         \u001B[0;32melse\u001B[0m\u001B[0;34m:\u001B[0m\u001B[0;34m\u001B[0m\u001B[0;34m\u001B[0m\u001B[0m\n\u001B[1;32m   2775\u001B[0m             \u001B[0mcnf\u001B[0m \u001B[0;34m=\u001B[0m \u001B[0;34m{\u001B[0m\u001B[0;34m}\u001B[0m\u001B[0;34m\u001B[0m\u001B[0;34m\u001B[0m\u001B[0m\n\u001B[0;32m-> 2776\u001B[0;31m         return self.tk.getint(self.tk.call(\n\u001B[0m\u001B[1;32m   2777\u001B[0m             \u001B[0mself\u001B[0m\u001B[0;34m.\u001B[0m\u001B[0m_w\u001B[0m\u001B[0;34m,\u001B[0m \u001B[0;34m'create'\u001B[0m\u001B[0;34m,\u001B[0m \u001B[0mitemType\u001B[0m\u001B[0;34m,\u001B[0m\u001B[0;34m\u001B[0m\u001B[0;34m\u001B[0m\u001B[0m\n\u001B[1;32m   2778\u001B[0m             *(args + self._options(cnf, kw))))\n",
      "\u001B[0;31mTclError\u001B[0m: image \"pyimage3\" doesn't exist"
     ]
    }
   ],
   "source": [
    "from tkinter import *\n",
    "from time import sleep\n",
    "\n",
    "r = Tk()\n",
    "c = Canvas(r,width=400,height=300,bg='white')\n",
    "c.pack()\n",
    "imglist = []\n",
    "for n in range(1,24):\n",
    "    giff = 'yupan/yupan'+str(n)+'.gif'\n",
    "    imglist.append(PhotoImage(file=giff))\n",
    "while True:\n",
    "    for i in range(23):\n",
    "        im = c.create_image(200,150,image=imglist[i])\n",
    "        c.update()\n",
    "        c.delete(im)\n",
    "        sleep(0.1)"
   ],
   "metadata": {
    "collapsed": false,
    "pycharm": {
     "name": "#%%\n"
    }
   }
  },
  {
   "cell_type": "markdown",
   "source": [
    "# 二、快速移动一个图形形成动画\n",
    "```\n",
    "皮球从高处落地弹起.\n",
    "提示:假设速度矢量向下为正,向上为负(注意坐标系方向),\n",
    "且以皮球距地面高度(而非纵坐标)为位置变量,\n",
    "则主要计算公式为\n",
    "  球的新高度 = 球的旧高度 - 球速 * 时间间隔\n",
    "  球的新速度 = 球的旧速度 + 9.8 * 时间间隔\n",
    "  落地反弹:if 新高度 < 球半径:\n",
    "               应设置新高度=球半径\n",
    "               然后速度方向取反\n",
    "```"
   ],
   "metadata": {
    "collapsed": false
   }
  },
  {
   "cell_type": "code",
   "execution_count": 3,
   "outputs": [
    {
     "ename": "TclError",
     "evalue": "invalid command name \".!canvas\"",
     "output_type": "error",
     "traceback": [
      "\u001B[0;31m---------------------------------------------------------------------------\u001B[0m",
      "\u001B[0;31mTclError\u001B[0m                                  Traceback (most recent call last)",
      "\u001B[0;32m<ipython-input-3-5978ddb0ff8f>\u001B[0m in \u001B[0;36m<module>\u001B[0;34m\u001B[0m\n\u001B[1;32m     20\u001B[0m         \u001B[0mh1\u001B[0m \u001B[0;34m=\u001B[0m \u001B[0;36m380\u001B[0m\u001B[0;34m\u001B[0m\u001B[0;34m\u001B[0m\u001B[0m\n\u001B[1;32m     21\u001B[0m         \u001B[0mv1\u001B[0m \u001B[0;34m=\u001B[0m \u001B[0;36m0.0\u001B[0m\u001B[0;34m\u001B[0m\u001B[0;34m\u001B[0m\u001B[0m\n\u001B[0;32m---> 22\u001B[0;31m     \u001B[0mc\u001B[0m\u001B[0;34m.\u001B[0m\u001B[0mmove\u001B[0m\u001B[0;34m(\u001B[0m\u001B[0mball\u001B[0m\u001B[0;34m,\u001B[0m\u001B[0;36m0\u001B[0m\u001B[0;34m,\u001B[0m\u001B[0mh0\u001B[0m\u001B[0;34m-\u001B[0m\u001B[0mh1\u001B[0m\u001B[0;34m)\u001B[0m\u001B[0;34m\u001B[0m\u001B[0;34m\u001B[0m\u001B[0m\n\u001B[0m\u001B[1;32m     23\u001B[0m     \u001B[0mc\u001B[0m\u001B[0;34m.\u001B[0m\u001B[0mupdate\u001B[0m\u001B[0;34m(\u001B[0m\u001B[0;34m)\u001B[0m\u001B[0;34m\u001B[0m\u001B[0;34m\u001B[0m\u001B[0m\n\u001B[1;32m     24\u001B[0m     \u001B[0mh0\u001B[0m \u001B[0;34m=\u001B[0m \u001B[0mh1\u001B[0m\u001B[0;34m\u001B[0m\u001B[0;34m\u001B[0m\u001B[0m\n",
      "\u001B[0;32m~/opt/anaconda3/lib/python3.8/tkinter/__init__.py\u001B[0m in \u001B[0;36mmove\u001B[0;34m(self, *args)\u001B[0m\n\u001B[1;32m   2918\u001B[0m     \u001B[0;32mdef\u001B[0m \u001B[0mmove\u001B[0m\u001B[0;34m(\u001B[0m\u001B[0mself\u001B[0m\u001B[0;34m,\u001B[0m \u001B[0;34m*\u001B[0m\u001B[0margs\u001B[0m\u001B[0;34m)\u001B[0m\u001B[0;34m:\u001B[0m\u001B[0;34m\u001B[0m\u001B[0;34m\u001B[0m\u001B[0m\n\u001B[1;32m   2919\u001B[0m         \u001B[0;34m\"\"\"Move an item TAGORID given in ARGS.\"\"\"\u001B[0m\u001B[0;34m\u001B[0m\u001B[0;34m\u001B[0m\u001B[0m\n\u001B[0;32m-> 2920\u001B[0;31m         \u001B[0mself\u001B[0m\u001B[0;34m.\u001B[0m\u001B[0mtk\u001B[0m\u001B[0;34m.\u001B[0m\u001B[0mcall\u001B[0m\u001B[0;34m(\u001B[0m\u001B[0;34m(\u001B[0m\u001B[0mself\u001B[0m\u001B[0;34m.\u001B[0m\u001B[0m_w\u001B[0m\u001B[0;34m,\u001B[0m \u001B[0;34m'move'\u001B[0m\u001B[0;34m)\u001B[0m \u001B[0;34m+\u001B[0m \u001B[0margs\u001B[0m\u001B[0;34m)\u001B[0m\u001B[0;34m\u001B[0m\u001B[0;34m\u001B[0m\u001B[0m\n\u001B[0m\u001B[1;32m   2921\u001B[0m \u001B[0;34m\u001B[0m\u001B[0m\n\u001B[1;32m   2922\u001B[0m     \u001B[0;32mdef\u001B[0m \u001B[0mmoveto\u001B[0m\u001B[0;34m(\u001B[0m\u001B[0mself\u001B[0m\u001B[0;34m,\u001B[0m \u001B[0mtagOrId\u001B[0m\u001B[0;34m,\u001B[0m \u001B[0mx\u001B[0m\u001B[0;34m=\u001B[0m\u001B[0;34m''\u001B[0m\u001B[0;34m,\u001B[0m \u001B[0my\u001B[0m\u001B[0;34m=\u001B[0m\u001B[0;34m''\u001B[0m\u001B[0;34m)\u001B[0m\u001B[0;34m:\u001B[0m\u001B[0;34m\u001B[0m\u001B[0;34m\u001B[0m\u001B[0m\n",
      "\u001B[0;31mTclError\u001B[0m: invalid command name \".!canvas\""
     ]
    }
   ],
   "source": [
    "from tkinter import *\n",
    "from time import sleep\n",
    "\n",
    "r = Tk()\n",
    "c = Canvas(r,width=80,height=420,bg='white')\n",
    "c.pack()\n",
    "c.create_rectangle(0,410,79,419,fill='brown')\n",
    "ball = c.create_oval(20,10,59,49,fill='red')\n",
    "h0 = 380\n",
    "v0 = 0.0\n",
    "dt = 0.05\n",
    "\n",
    "while True:\n",
    "    h1 = h0 - v0 * dt\n",
    "    v1 = v0 + 9.8 * dt\n",
    "    if h1 < 20:\n",
    "        h1 = 20\n",
    "        v1 = -1.0 * v1\n",
    "    if h1 > 380:\n",
    "        h1 = 380\n",
    "        v1 = 0.0\n",
    "    c.move(ball,0,h0-h1)\n",
    "    c.update()\n",
    "    h0 = h1\n",
    "    v0 = v1\n",
    "    sleep(0.02)"
   ],
   "metadata": {
    "collapsed": false,
    "pycharm": {
     "name": "#%%\n"
    }
   }
  },
  {
   "cell_type": "markdown",
   "source": [
    "# 三、从Canvas下载数据文件data.txt，文件每一行是用逗号分隔的15个数据。\n",
    "```\n",
    "如第1行：\n",
    "25, Private, 226802, 11th, 7, Never-married, Machine-op-inspct, Own-child, Black, Male, 0, 0, 40, United-States, <=50K.\n",
    "\n",
    "15个数据中，第4，9，10，15个数据的含义如下（x表示忽略其他11个数据）：\n",
    "x，x，x，教育程度，x，x，x，x，种族，性别，x，x，x，x，收入\n",
    "这四个数据可能取的值分别是：\n",
    "教育程度值: Preschool, 1st-4th, 5th-6th, 7th-8th, 9th, 10th, 11th,12th, HS-grad, Assoc-acdm, Assoc-voc, Prof-school, Some-college, Bachelors, Masters, Doctorate.\n",
    "种族值: White, Black, Asian-Pac-Islander, Amer-Indian-Eskimo, Other.\n",
    "性别值: Female, Male.\n",
    "收入值：<=50K, >50K\n",
    "\n",
    "按如下维度，分别统计各类人群的收入情况，即某类人群中<=50K和>50K的各占多少？\n",
    "教育：有学位的人（Bachelors/Masters/Doctorate） vs 其他人\n",
    "种族：白人（White）vs 其他人\n",
    "性别：男人（Male）vs 女人（Female）\n",
    "\n",
    "用图形给出直观的结果（例如用分为两色的柱状图表示各占的比例）。如果时间不够，以文字形式输出。\n",
    "```"
   ],
   "metadata": {
    "collapsed": false
   }
  },
  {
   "cell_type": "code",
   "execution_count": 9,
   "outputs": [
    {
     "ename": "NameError",
     "evalue": "name 'unicode' is not defined",
     "output_type": "error",
     "traceback": [
      "\u001B[0;31m---------------------------------------------------------------------------\u001B[0m",
      "\u001B[0;31mNameError\u001B[0m                                 Traceback (most recent call last)",
      "\u001B[0;32m<ipython-input-9-1c8c75adc30a>\u001B[0m in \u001B[0;36m<module>\u001B[0;34m\u001B[0m\n\u001B[1;32m     92\u001B[0m     \u001B[0mr\u001B[0m\u001B[0;34m.\u001B[0m\u001B[0mmainloop\u001B[0m\u001B[0;34m(\u001B[0m\u001B[0;34m)\u001B[0m\u001B[0;34m\u001B[0m\u001B[0;34m\u001B[0m\u001B[0m\n\u001B[1;32m     93\u001B[0m \u001B[0;34m\u001B[0m\u001B[0m\n\u001B[0;32m---> 94\u001B[0;31m \u001B[0mmain\u001B[0m\u001B[0;34m(\u001B[0m\u001B[0;34m)\u001B[0m\u001B[0;34m\u001B[0m\u001B[0;34m\u001B[0m\u001B[0m\n\u001B[0m",
      "\u001B[0;32m<ipython-input-9-1c8c75adc30a>\u001B[0m in \u001B[0;36mmain\u001B[0;34m()\u001B[0m\n\u001B[1;32m     83\u001B[0m     \u001B[0mc\u001B[0m \u001B[0;34m=\u001B[0m \u001B[0mCanvas\u001B[0m\u001B[0;34m(\u001B[0m\u001B[0mr\u001B[0m\u001B[0;34m,\u001B[0m\u001B[0mwidth\u001B[0m\u001B[0;34m=\u001B[0m\u001B[0;36m200\u001B[0m\u001B[0;34m,\u001B[0m\u001B[0mheight\u001B[0m\u001B[0;34m=\u001B[0m\u001B[0;36m240\u001B[0m\u001B[0;34m,\u001B[0m\u001B[0mbg\u001B[0m\u001B[0;34m=\u001B[0m\u001B[0;34m\"white\"\u001B[0m\u001B[0;34m)\u001B[0m\u001B[0;34m\u001B[0m\u001B[0;34m\u001B[0m\u001B[0m\n\u001B[1;32m     84\u001B[0m     \u001B[0mc\u001B[0m\u001B[0;34m.\u001B[0m\u001B[0mpack\u001B[0m\u001B[0;34m(\u001B[0m\u001B[0;34m)\u001B[0m\u001B[0;34m\u001B[0m\u001B[0;34m\u001B[0m\u001B[0m\n\u001B[0;32m---> 85\u001B[0;31m     \u001B[0mtd\u001B[0m\u001B[0;34m=\u001B[0m\u001B[0;34m[\u001B[0m\u001B[0municode\u001B[0m\u001B[0;34m(\u001B[0m\u001B[0;34m\"有\\n学\\n位\"\u001B[0m\u001B[0;34m,\u001B[0m\u001B[0;34m\"gbk\"\u001B[0m\u001B[0;34m)\u001B[0m\u001B[0;34m,\u001B[0m\u001B[0municode\u001B[0m\u001B[0;34m(\u001B[0m\u001B[0;34m\"无\\n学\\n位\"\u001B[0m\u001B[0;34m,\u001B[0m\u001B[0;34m\"gbk\"\u001B[0m\u001B[0;34m)\u001B[0m\u001B[0;34m]\u001B[0m\u001B[0;34m\u001B[0m\u001B[0;34m\u001B[0m\u001B[0m\n\u001B[0m\u001B[1;32m     86\u001B[0m     \u001B[0mts\u001B[0m\u001B[0;34m=\u001B[0m\u001B[0;34m[\u001B[0m\u001B[0municode\u001B[0m\u001B[0;34m(\u001B[0m\u001B[0;34m\"白\\n人\"\u001B[0m\u001B[0;34m,\u001B[0m\u001B[0;34m\"gbk\"\u001B[0m\u001B[0;34m)\u001B[0m\u001B[0;34m,\u001B[0m\u001B[0municode\u001B[0m\u001B[0;34m(\u001B[0m\u001B[0;34m\"有\\n色\\n人\"\u001B[0m\u001B[0;34m,\u001B[0m\u001B[0;34m\"gbk\"\u001B[0m\u001B[0;34m)\u001B[0m\u001B[0;34m]\u001B[0m\u001B[0;34m\u001B[0m\u001B[0;34m\u001B[0m\u001B[0m\n\u001B[1;32m     87\u001B[0m     \u001B[0mtg\u001B[0m\u001B[0;34m=\u001B[0m\u001B[0;34m[\u001B[0m\u001B[0municode\u001B[0m\u001B[0;34m(\u001B[0m\u001B[0;34m\"男\\n性\"\u001B[0m\u001B[0;34m,\u001B[0m\u001B[0;34m\"gbk\"\u001B[0m\u001B[0;34m)\u001B[0m\u001B[0;34m,\u001B[0m\u001B[0municode\u001B[0m\u001B[0;34m(\u001B[0m\u001B[0;34m\"女\\n性\"\u001B[0m\u001B[0;34m,\u001B[0m\u001B[0;34m\"gbk\"\u001B[0m\u001B[0;34m)\u001B[0m\u001B[0;34m]\u001B[0m\u001B[0;34m\u001B[0m\u001B[0;34m\u001B[0m\u001B[0m\n",
      "\u001B[0;31mNameError\u001B[0m: name 'unicode' is not defined"
     ]
    }
   ],
   "source": [
    "from tkinter import *\n",
    "\n",
    "def prepare(s):\n",
    "    for ch in \",.\":\n",
    "        s = s.replace(ch,\" \")\n",
    "    return s\n",
    "\n",
    "def drawBar(c,k,t,aHi,aLo,bHi,bLo):\n",
    "    a = aHi + aLo\n",
    "    b = bHi + bLo\n",
    "    n = a + b\n",
    "    x0 = 20+(k-1)*60\n",
    "    y0 = 200-aHi*200/n\n",
    "    x1 = x0+20\n",
    "    y1 = 200\n",
    "    c.create_rectangle(x0,y0,x1,y1,fill='red')\n",
    "    y2 = y0-aLo*200/n\n",
    "    y3 = y0\n",
    "    c.create_rectangle(x0,y2,x1,y3,fill='green')\n",
    "    u0 = x1\n",
    "    v0 = 200-bHi*200/n\n",
    "    u1 = u0+20\n",
    "    v1 = 200\n",
    "    c.create_rectangle(u0,v0,u1,v1,fill='red')\n",
    "    v2 = v0-bLo*200/n\n",
    "    v3 = v0\n",
    "    c.create_rectangle(u0,v2,u1,v3,fill='green')\n",
    "\n",
    "    c.create_text(x0+4,204,text=t[0],anchor=NW)\n",
    "    c.create_text(u0+4,204,text=t[1],anchor=NW)\n",
    "\n",
    "    pct1 = unicode(\"%d%%\" % (100*aLo/a),'gbk')\n",
    "    c.create_text(x0+4,y2,text=pct1,anchor=NW)\n",
    "    pct2 = unicode(\"%d%%\" % (100*bLo/b),'gbk')\n",
    "    c.create_text(u0+4,v2,text=pct2,anchor=NW)\n",
    "\n",
    "f = open(\"data.txt\",\"r\")\n",
    "dHi,dLo,ndHi,ndLo = 0,0,0,0\n",
    "wHi,wLo,cHi,cLo = 0,0,0,0\n",
    "mHi,mLo,fHi,fLo = 0,0,0,0\n",
    "s = f.readline()\n",
    "while s != \"\":\n",
    "    s = prepare(s)\n",
    "    w = s.split()\n",
    "    if \"Bac\" in w[3] or \"Mas\" in w[3] or \"Doc\" in w[3]:\n",
    "        if \">\" in w[14]:\n",
    "            dHi = dHi + 1\n",
    "        else:\n",
    "            dLo = dLo + 1\n",
    "    else:\n",
    "        if \">\" in w[14]:\n",
    "            ndHi = ndHi + 1\n",
    "        else:\n",
    "            ndLo = ndLo + 1\n",
    "\n",
    "    if \"White\" in w[8]:\n",
    "        if \">\" in w[14]:\n",
    "            wHi = wHi + 1\n",
    "        else:\n",
    "            wLo = wLo + 1\n",
    "    else:\n",
    "        if \">\" in w[14]:\n",
    "            cHi = cHi + 1\n",
    "        else:\n",
    "            cLo = cLo + 1\n",
    "\n",
    "    if \"Male\" in w[9]:\n",
    "        if \">\" in w[14]:\n",
    "            mHi = mHi + 1\n",
    "        else:\n",
    "            mLo = mLo + 1\n",
    "    else:\n",
    "        if \">\" in w[14]:\n",
    "            fHi = fHi + 1\n",
    "        else:\n",
    "            fLo = fLo + 1\n",
    "    s = f.readline()\n",
    "\n",
    "r = Tk()\n",
    "c = Canvas(r,width=200,height=240,bg=\"white\")\n",
    "c.pack()\n",
    "td=[unicode(\"有\\n学\\n位\",\"gbk\"),unicode(\"无\\n学\\n位\",\"gbk\")]\n",
    "ts=[unicode(\"白\\n人\",\"gbk\"),unicode(\"有\\n色\\n人\",\"gbk\")]\n",
    "tg=[unicode(\"男\\n性\",\"gbk\"),unicode(\"女\\n性\",\"gbk\")]\n",
    "drawBar(c,1,td,dHi,dLo,ndHi,ndLo)\n",
    "drawBar(c,2,ts,wHi,wLo,cHi,cLo)\n",
    "drawBar(c,3,tg,mHi,mLo,fHi,fLo)\n",
    "r.mainloop()\n"
   ],
   "metadata": {
    "collapsed": false,
    "pycharm": {
     "name": "#%%\n"
    }
   }
  }
 ],
 "metadata": {
  "kernelspec": {
   "display_name": "Python 3",
   "language": "python",
   "name": "python3"
  },
  "language_info": {
   "codemirror_mode": {
    "name": "ipython",
    "version": 3
   },
   "file_extension": ".py",
   "mimetype": "text/x-python",
   "name": "python",
   "nbconvert_exporter": "python",
   "pygments_lexer": "ipython3",
   "version": "3.8.8"
  },
  "latex_envs": {
   "LaTeX_envs_menu_present": true,
   "autoclose": false,
   "autocomplete": true,
   "bibliofile": "biblio.bib",
   "cite_by": "apalike",
   "current_citInitial": 1,
   "eqLabelWithNumbers": true,
   "eqNumInitial": 1,
   "hotkeys": {
    "equation": "Ctrl-E",
    "itemize": "Ctrl-I"
   },
   "labels_anchors": false,
   "latex_user_defs": false,
   "report_style_numbering": false,
   "user_envs_cfg": false
  },
  "toc": {
   "base_numbering": 1,
   "nav_menu": {},
   "number_sections": true,
   "sideBar": true,
   "skip_h1_title": false,
   "title_cell": "Table of Contents",
   "title_sidebar": "Contents",
   "toc_cell": false,
   "toc_position": {},
   "toc_section_display": true,
   "toc_window_display": false
  },
  "varInspector": {
   "cols": {
    "lenName": 16,
    "lenType": 16,
    "lenVar": 40
   },
   "kernels_config": {
    "python": {
     "delete_cmd_postfix": "",
     "delete_cmd_prefix": "del ",
     "library": "var_list.py",
     "varRefreshCmd": "print(var_dic_list())"
    },
    "r": {
     "delete_cmd_postfix": ") ",
     "delete_cmd_prefix": "rm(",
     "library": "var_list.r",
     "varRefreshCmd": "cat(var_dic_list()) "
    }
   },
   "types_to_exclude": [
    "module",
    "function",
    "builtin_function_or_method",
    "instance",
    "_Feature"
   ],
   "window_display": false
  }
 },
 "nbformat": 4,
 "nbformat_minor": 1
}