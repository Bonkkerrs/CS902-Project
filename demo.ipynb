{
 "cells": [
  {
   "cell_type": "code",
   "execution_count": 2,
   "metadata": {
    "collapsed": true
   },
   "outputs": [],
   "source": [
    "import numpy as np\n",
    "import pandas as pd\n",
    "import seaborn as sns\n",
    "import matplotlib.pyplot as plt\n",
    "import warnings\n",
    "warnings.filterwarnings('ignore')"
   ]
  },
  {
   "cell_type": "code",
   "execution_count": 66,
   "outputs": [],
   "source": [
    "class Normal():\n",
    "    def __init__(self, mu, sigma_2):\n",
    "        self.mu = mu\n",
    "        self.sigma_2 = sigma_2\n",
    "        self.normalize()\n",
    "\n",
    "    def normalize(self):\n",
    "        X_0 = np.random.randn(10000)\n",
    "        X = X_0 * np.sqrt(self.sigma_2) + self.mu\n",
    "        self.data = X\n",
    "\n",
    "    def get_histgram(self):\n",
    "        sns.histplot(self.data)\n",
    "\n",
    "    def get_density(self):\n",
    "        sns.kdeplot(self.data)\n",
    "\n",
    "    def get_distplot(self):\n",
    "        sns.distplot(self.data)\n",
    "\n",
    "class GaussMixtureNormal(Normal):\n",
    "    def __init__(self, X, Y, ita):\n",
    "        self.data = X.data + ita * Y.data"
   ],
   "metadata": {
    "collapsed": false,
    "pycharm": {
     "name": "#%%\n"
    }
   }
  },
  {
   "cell_type": "code",
   "execution_count": 67,
   "outputs": [],
   "source": [
    "x = Normal(15,9)\n",
    "y = Normal(1,16)\n",
    "z = np.random.binomial(1,0.2,10000)"
   ],
   "metadata": {
    "collapsed": false,
    "pycharm": {
     "name": "#%%\n"
    }
   }
  },
  {
   "cell_type": "code",
   "execution_count": 68,
   "outputs": [
    {
     "data": {
      "text/plain": "<Figure size 432x288 with 1 Axes>",
      "image/png": "[encoded data removed]"
     },
     "metadata": {
      "needs_background": "light"
     },
     "output_type": "display_data"
    }
   ],
   "source": [
    "Z = GaussMixtureNormal(x,y,z)\n",
    "Z.get_density()\n",
    "Z.get_histgram()"
   ],
   "metadata": {
    "collapsed": false,
    "pycharm": {
     "name": "#%%\n"
    }
   }
  },
  {
   "cell_type": "code",
   "execution_count": 69,
   "outputs": [
    {
     "data": {
      "text/plain": "<Figure size 432x288 with 1 Axes>",
      "image/png": "[encoded data removed]"
     },
     "metadata": {
      "needs_background": "light"
     },
     "output_type": "display_data"
    }
   ],
   "source": [
    "Z.get_distplot()"
   ],
   "metadata": {
    "collapsed": false,
    "pycharm": {
     "name": "#%%\n"
    }
   }
  },
  {
   "cell_type": "code",
   "execution_count": 28,
   "outputs": [
    {
     "data": {
      "text/plain": "[(11.904, 12.348], (15.009, 15.453], (13.678, 14.122], (20.332, 20.775], (9.686, 10.13], ..., (10.573, 11.017], (17.227, 17.67], (12.791, 13.235], (15.009, 15.453], (13.235, 13.678]]\nLength: 100000\nCategories (100, interval[float64]): [(-4.552, -4.064] < (-4.064, -3.621] < (-3.621, -3.177] < (-3.177, -2.734] ... (38.074, 38.518] < (38.518, 38.961] < (38.961, 39.405] < (39.405, 39.848]]"
     },
     "execution_count": 28,
     "metadata": {},
     "output_type": "execute_result"
    }
   ],
   "source": [
    "cats = pd.cut(Z.data,100)\n",
    "cats"
   ],
   "metadata": {
    "collapsed": false,
    "pycharm": {
     "name": "#%%\n"
    }
   }
  },
  {
   "cell_type": "code",
   "execution_count": 31,
   "outputs": [
    {
     "data": {
      "text/plain": "(14.565, 15.009]    5180\n(14.122, 14.565]    5157\n(15.009, 15.453]    5050\n(15.453, 15.896]    5045\n(15.896, 16.34]     4923\n                    ... \n(37.187, 37.631]       0\n(37.631, 38.074]       0\n(38.074, 38.518]       0\n(38.518, 38.961]       0\n(38.961, 39.405]       0\nLength: 100, dtype: int64"
     },
     "execution_count": 31,
     "metadata": {},
     "output_type": "execute_result"
    }
   ],
   "source": [
    "s = pd.value_counts(cats)\n",
    "s"
   ],
   "metadata": {
    "collapsed": false,
    "pycharm": {
     "name": "#%%\n"
    }
   }
  },
  {
   "cell_type": "code",
   "execution_count": 33,
   "outputs": [
    {
     "data": {
      "text/plain": "(14.565, 15.009]    0.05180\n(14.122, 14.565]    0.05157\n(15.009, 15.453]    0.05050\n(15.453, 15.896]    0.05045\n(15.896, 16.34]     0.04923\n                     ...   \n(37.187, 37.631]    0.00000\n(37.631, 38.074]    0.00000\n(38.074, 38.518]    0.00000\n(38.518, 38.961]    0.00000\n(38.961, 39.405]    0.00000\nLength: 100, dtype: float64"
     },
     "execution_count": 33,
     "metadata": {},
     "output_type": "execute_result"
    }
   ],
   "source": [
    "s.sum()\n",
    "s /= s.sum()\n",
    "s"
   ],
   "metadata": {
    "collapsed": false,
    "pycharm": {
     "name": "#%%\n"
    }
   }
  },
  {
   "cell_type": "code",
   "execution_count": 50,
   "outputs": [
    {
     "name": "stdout",
     "output_type": "stream",
     "text": [
      "14.565 15.009\n",
      "14.122 14.565\n",
      "15.009 15.453\n",
      "15.453 15.896\n",
      "15.896 16.34\n"
     ]
    }
   ],
   "source": [
    "for i in s.index[:5]:\n",
    "    print(i.left, i.right)"
   ],
   "metadata": {
    "collapsed": false,
    "pycharm": {
     "name": "#%%\n"
    }
   }
  },
  {
   "cell_type": "code",
   "execution_count": 51,
   "outputs": [
    {
     "data": {
      "text/plain": "Interval(14.565, 15.009, closed='right')"
     },
     "execution_count": 51,
     "metadata": {},
     "output_type": "execute_result"
    }
   ],
   "source": [
    "s.index[0]"
   ],
   "metadata": {
    "collapsed": false,
    "pycharm": {
     "name": "#%%\n"
    }
   }
  },
  {
   "cell_type": "code",
   "execution_count": 4,
   "outputs": [],
   "source": [
    "import tushare as ts\n",
    "import datetime as dt"
   ],
   "metadata": {
    "collapsed": false,
    "pycharm": {
     "name": "#%%\n"
    }
   }
  },
  {
   "cell_type": "code",
   "execution_count": 22,
   "outputs": [
    {
     "name": "stdout",
     "output_type": "stream",
     "text": [
      "本接口即将停止更新，请尽快使用Pro版接口：https://tushare.pro/document/2\n"
     ]
    },
    {
     "data": {
      "text/plain": "             open   high  close    low      volume  price_change  p_change  \\\ndate                                                                         \n2022-04-29  43.80  45.12  44.56  43.60   516386.38          0.90      2.06   \n2022-04-28  43.79  43.91  43.66  43.16   525999.38         -0.25     -0.57   \n2022-04-27  43.41  44.20  43.91  43.18   531083.50          0.32      0.73   \n2022-04-26  44.84  45.18  43.59  43.51   638923.62         -1.26     -2.81   \n2022-04-25  45.00  46.18  44.85  44.70   673920.38         -1.61     -3.46   \n...           ...    ...    ...    ...         ...           ...       ...   \n2021-07-14  59.65  59.65  57.91  57.78  1065618.38         -1.79     -3.00   \n2021-07-13  59.40  59.88  59.70  59.05   513337.44          0.30      0.51   \n2021-07-12  60.31  60.48  59.40  59.32   818989.25         -0.69     -1.15   \n2021-07-09  60.48  61.15  60.09  59.81   707615.88         -0.69     -1.14   \n2021-07-08  62.37  62.37  60.78  60.52   837558.50         -1.59     -2.55   \n\n               ma5    ma10    ma20      v_ma5     v_ma10     v_ma20  turnover  \ndate                                                                           \n2022-04-29  44.114  45.260  46.884  577262.65  498821.07  471290.78      0.48  \n2022-04-28  44.494  45.634  47.091  553450.53  478593.94  474242.82      0.49  \n2022-04-27  45.006  46.087  47.268  558059.37  461878.90  464060.69      0.49  \n2022-04-26  45.406  46.478  47.465  527964.64  440545.69  457190.83      0.59  \n2022-04-25  45.976  46.966  47.667  474088.52  423392.88  453241.55      0.62  \n...            ...     ...     ...        ...        ...        ...       ...  \n2021-07-14  59.576  61.212  63.254  788623.89  762344.56  676806.83      0.98  \n2021-07-13  60.468  61.849  63.709  680133.72  703419.61  649889.39      0.47  \n2021-07-12  61.108  62.317  64.077  714628.81  707052.68  678100.37      0.76  \n2021-07-09  61.610  62.937  64.577  700960.31  676167.15  668667.09      0.65  \n2021-07-08  62.052  63.596  65.073  765053.46  658970.92  659516.86      0.77  \n\n[197 rows x 14 columns]",
      "text/html": "<div>\n<style scoped>\n    .dataframe tbody tr th:only-of-type {\n        vertical-align: middle;\n    }\n\n    .dataframe tbody tr th {\n        vertical-align: top;\n    }\n\n    .dataframe thead th {\n        text-align: right;\n    }\n</style>\n<table border=\"1\" class=\"dataframe\">\n  <thead>\n    <tr style=\"text-align: right;\">\n      <th></th>\n      <th>open</th>\n      <th>high</th>\n      <th>close</th>\n      <th>low</th>\n      <th>volume</th>\n      <th>price_change</th>\n      <th>p_change</th>\n      <th>ma5</th>\n      <th>ma10</th>\n      <th>ma20</th>\n      <th>v_ma5</th>\n      <th>v_ma10</th>\n      <th>v_ma20</th>\n      <th>turnover</th>\n    </tr>\n    <tr>\n      <th>date</th>\n      <th></th>\n      <th></th>\n      <th></th>\n      <th></th>\n      <th></th>\n      <th></th>\n      <th></th>\n      <th></th>\n      <th></th>\n      <th></th>\n      <th></th>\n      <th></th>\n      <th></th>\n      <th></th>\n    </tr>\n  </thead>\n  <tbody>\n    <tr>\n      <th>2022-04-29</th>\n      <td>43.80</td>\n      <td>45.12</td>\n      <td>44.56</td>\n      <td>43.60</td>\n      <td>516386.38</td>\n      <td>0.90</td>\n      <td>2.06</td>\n      <td>44.114</td>\n      <td>45.260</td>\n      <td>46.884</td>\n      <td>577262.65</td>\n      <td>498821.07</td>\n      <td>471290.78</td>\n      <td>0.48</td>\n    </tr>\n    <tr>\n      <th>2022-04-28</th>\n      <td>43.79</td>\n      <td>43.91</td>\n      <td>43.66</td>\n      <td>43.16</td>\n      <td>525999.38</td>\n      <td>-0.25</td>\n      <td>-0.57</td>\n      <td>44.494</td>\n      <td>45.634</td>\n      <td>47.091</td>\n      <td>553450.53</td>\n      <td>478593.94</td>\n      <td>474242.82</td>\n      <td>0.49</td>\n    </tr>\n    <tr>\n      <th>2022-04-27</th>\n      <td>43.41</td>\n      <td>44.20</td>\n      <td>43.91</td>\n      <td>43.18</td>\n      <td>531083.50</td>\n      <td>0.32</td>\n      <td>0.73</td>\n      <td>45.006</td>\n      <td>46.087</td>\n      <td>47.268</td>\n      <td>558059.37</td>\n      <td>461878.90</td>\n      <td>464060.69</td>\n      <td>0.49</td>\n    </tr>\n    <tr>\n      <th>2022-04-26</th>\n      <td>44.84</td>\n      <td>45.18</td>\n      <td>43.59</td>\n      <td>43.51</td>\n      <td>638923.62</td>\n      <td>-1.26</td>\n      <td>-2.81</td>\n      <td>45.406</td>\n      <td>46.478</td>\n      <td>47.465</td>\n      <td>527964.64</td>\n      <td>440545.69</td>\n      <td>457190.83</td>\n      <td>0.59</td>\n    </tr>\n    <tr>\n      <th>2022-04-25</th>\n      <td>45.00</td>\n      <td>46.18</td>\n      <td>44.85</td>\n      <td>44.70</td>\n      <td>673920.38</td>\n      <td>-1.61</td>\n      <td>-3.46</td>\n      <td>45.976</td>\n      <td>46.966</td>\n      <td>47.667</td>\n      <td>474088.52</td>\n      <td>423392.88</td>\n      <td>453241.55</td>\n      <td>0.62</td>\n    </tr>\n    <tr>\n      <th>...</th>\n      <td>...</td>\n      <td>...</td>\n      <td>...</td>\n      <td>...</td>\n      <td>...</td>\n      <td>...</td>\n      <td>...</td>\n      <td>...</td>\n      <td>...</td>\n      <td>...</td>\n      <td>...</td>\n      <td>...</td>\n      <td>...</td>\n      <td>...</td>\n    </tr>\n    <tr>\n      <th>2021-07-14</th>\n      <td>59.65</td>\n      <td>59.65</td>\n      <td>57.91</td>\n      <td>57.78</td>\n      <td>1065618.38</td>\n      <td>-1.79</td>\n      <td>-3.00</td>\n      <td>59.576</td>\n      <td>61.212</td>\n      <td>63.254</td>\n      <td>788623.89</td>\n      <td>762344.56</td>\n      <td>676806.83</td>\n      <td>0.98</td>\n    </tr>\n    <tr>\n      <th>2021-07-13</th>\n      <td>59.40</td>\n      <td>59.88</td>\n      <td>59.70</td>\n      <td>59.05</td>\n      <td>513337.44</td>\n      <td>0.30</td>\n      <td>0.51</td>\n      <td>60.468</td>\n      <td>61.849</td>\n      <td>63.709</td>\n      <td>680133.72</td>\n      <td>703419.61</td>\n      <td>649889.39</td>\n      <td>0.47</td>\n    </tr>\n    <tr>\n      <th>2021-07-12</th>\n      <td>60.31</td>\n      <td>60.48</td>\n      <td>59.40</td>\n      <td>59.32</td>\n      <td>818989.25</td>\n      <td>-0.69</td>\n      <td>-1.15</td>\n      <td>61.108</td>\n      <td>62.317</td>\n      <td>64.077</td>\n      <td>714628.81</td>\n      <td>707052.68</td>\n      <td>678100.37</td>\n      <td>0.76</td>\n    </tr>\n    <tr>\n      <th>2021-07-09</th>\n      <td>60.48</td>\n      <td>61.15</td>\n      <td>60.09</td>\n      <td>59.81</td>\n      <td>707615.88</td>\n      <td>-0.69</td>\n      <td>-1.14</td>\n      <td>61.610</td>\n      <td>62.937</td>\n      <td>64.577</td>\n      <td>700960.31</td>\n      <td>676167.15</td>\n      <td>668667.09</td>\n      <td>0.65</td>\n    </tr>\n    <tr>\n      <th>2021-07-08</th>\n      <td>62.37</td>\n      <td>62.37</td>\n      <td>60.78</td>\n      <td>60.52</td>\n      <td>837558.50</td>\n      <td>-1.59</td>\n      <td>-2.55</td>\n      <td>62.052</td>\n      <td>63.596</td>\n      <td>65.073</td>\n      <td>765053.46</td>\n      <td>658970.92</td>\n      <td>659516.86</td>\n      <td>0.77</td>\n    </tr>\n  </tbody>\n</table>\n<p>197 rows × 14 columns</p>\n</div>"
     },
     "execution_count": 22,
     "metadata": {},
     "output_type": "execute_result"
    }
   ],
   "source": [
    "endDate = dt.datetime.now()\n",
    "startDate = endDate - dt.timedelta(days=300)\n",
    "endDate = endDate.strftime('%Y-%m-%d')\n",
    "startDate = startDate.strftime('%Y-%m-%d')\n",
    "ts.get_hist_data('601318',start=startDate,end=endDate)"
   ],
   "metadata": {
    "collapsed": false,
    "pycharm": {
     "name": "#%%\n"
    }
   }
  },
  {
   "cell_type": "code",
   "execution_count": 16,
   "outputs": [
    {
     "data": {
      "text/plain": "'2021-07-08'"
     },
     "execution_count": 16,
     "metadata": {},
     "output_type": "execute_result"
    }
   ],
   "source": [
    "startDate.strftime('%Y-%m-%d')"
   ],
   "metadata": {
    "collapsed": false,
    "pycharm": {
     "name": "#%%\n"
    }
   }
  },
  {
   "cell_type": "code",
   "execution_count": 23,
   "outputs": [
    {
     "name": "stdout",
     "output_type": "stream",
     "text": [
      "本接口即将停止更新，请尽快使用Pro版接口：https://tushare.pro/document/2\n"
     ]
    }
   ],
   "source": [
    "endDate = dt.datetime.now()\n",
    "startDate = endDate - dt.timedelta(days=300)\n",
    "endDate = endDate.strftime('%Y-%m-%d')\n",
    "startDate = startDate.strftime('%Y-%m-%d')\n",
    "ts.get_hist_data('AAPL',start=startDate,end=endDate)"
   ],
   "metadata": {
    "collapsed": false,
    "pycharm": {
     "name": "#%%\n"
    }
   }
  },
  {
   "cell_type": "code",
   "execution_count": 25,
   "outputs": [],
   "source": [
    "pro = ts.pro_api('58d6a5ad6a2ae259ac0131313f3c9ff4f55a92702a343f8c1345a068')\n",
    "df = pro.daily(ts_code='000001.SZ', start_date='20180701', end_date='20180718')"
   ],
   "metadata": {
    "collapsed": false,
    "pycharm": {
     "name": "#%%\n"
    }
   }
  },
  {
   "cell_type": "code",
   "execution_count": 26,
   "outputs": [
    {
     "data": {
      "text/plain": "      ts_code trade_date  open  high   low  close  pre_close  change  pct_chg  \\\n0   000001.SZ   20180718  8.75  8.85  8.69   8.70       8.72   -0.02    -0.23   \n1   000001.SZ   20180717  8.74  8.75  8.66   8.72       8.73   -0.01    -0.11   \n2   000001.SZ   20180716  8.85  8.90  8.69   8.73       8.88   -0.15    -1.69   \n3   000001.SZ   20180713  8.92  8.94  8.82   8.88       8.88    0.00     0.00   \n4   000001.SZ   20180712  8.60  8.97  8.58   8.88       8.64    0.24     2.78   \n5   000001.SZ   20180711  8.76  8.83  8.68   8.78       8.98   -0.20    -2.23   \n6   000001.SZ   20180710  9.02  9.02  8.89   8.98       9.03   -0.05    -0.55   \n7   000001.SZ   20180709  8.69  9.03  8.68   9.03       8.66    0.37     4.27   \n8   000001.SZ   20180706  8.61  8.78  8.45   8.66       8.60    0.06     0.70   \n9   000001.SZ   20180705  8.62  8.73  8.55   8.60       8.61   -0.01    -0.12   \n10  000001.SZ   20180704  8.63  8.75  8.61   8.61       8.67   -0.06    -0.69   \n11  000001.SZ   20180703  8.69  8.70  8.45   8.67       8.61    0.06     0.70   \n12  000001.SZ   20180702  9.05  9.05  8.55   8.61       9.09   -0.48    -5.28   \n\n           vol       amount  \n0    525152.77   460697.377  \n1    375356.33   326396.994  \n2    689845.58   603427.713  \n3    603378.21   535401.175  \n4   1140492.31  1008658.828  \n5    851296.70   744765.824  \n6    896862.02   803038.965  \n7   1409954.60  1255007.609  \n8    988282.69   852071.526  \n9    835768.77   722169.579  \n10   711153.37   617278.559  \n11  1274838.57  1096657.033  \n12  1315520.13  1158545.868  ",
      "text/html": "<div>\n<style scoped>\n    .dataframe tbody tr th:only-of-type {\n        vertical-align: middle;\n    }\n\n    .dataframe tbody tr th {\n        vertical-align: top;\n    }\n\n    .dataframe thead th {\n        text-align: right;\n    }\n</style>\n<table border=\"1\" class=\"dataframe\">\n  <thead>\n    <tr style=\"text-align: right;\">\n      <th></th>\n      <th>ts_code</th>\n      <th>trade_date</th>\n      <th>open</th>\n      <th>high</th>\n      <th>low</th>\n      <th>close</th>\n      <th>pre_close</th>\n      <th>change</th>\n      <th>pct_chg</th>\n      <th>vol</th>\n      <th>amount</th>\n    </tr>\n  </thead>\n  <tbody>\n    <tr>\n      <th>0</th>\n      <td>000001.SZ</td>\n      <td>20180718</td>\n      <td>8.75</td>\n      <td>8.85</td>\n      <td>8.69</td>\n      <td>8.70</td>\n      <td>8.72</td>\n      <td>-0.02</td>\n      <td>-0.23</td>\n      <td>525152.77</td>\n      <td>460697.377</td>\n    </tr>\n    <tr>\n      <th>1</th>\n      <td>000001.SZ</td>\n      <td>20180717</td>\n      <td>8.74</td>\n      <td>8.75</td>\n      <td>8.66</td>\n      <td>8.72</td>\n      <td>8.73</td>\n      <td>-0.01</td>\n      <td>-0.11</td>\n      <td>375356.33</td>\n      <td>326396.994</td>\n    </tr>\n    <tr>\n      <th>2</th>\n      <td>000001.SZ</td>\n      <td>20180716</td>\n      <td>8.85</td>\n      <td>8.90</td>\n      <td>8.69</td>\n      <td>8.73</td>\n      <td>8.88</td>\n      <td>-0.15</td>\n      <td>-1.69</td>\n      <td>689845.58</td>\n      <td>603427.713</td>\n    </tr>\n    <tr>\n      <th>3</th>\n      <td>000001.SZ</td>\n      <td>20180713</td>\n      <td>8.92</td>\n      <td>8.94</td>\n      <td>8.82</td>\n      <td>8.88</td>\n      <td>8.88</td>\n      <td>0.00</td>\n      <td>0.00</td>\n      <td>603378.21</td>\n      <td>535401.175</td>\n    </tr>\n    <tr>\n      <th>4</th>\n      <td>000001.SZ</td>\n      <td>20180712</td>\n      <td>8.60</td>\n      <td>8.97</td>\n      <td>8.58</td>\n      <td>8.88</td>\n      <td>8.64</td>\n      <td>0.24</td>\n      <td>2.78</td>\n      <td>1140492.31</td>\n      <td>1008658.828</td>\n    </tr>\n    <tr>\n      <th>5</th>\n      <td>000001.SZ</td>\n      <td>20180711</td>\n      <td>8.76</td>\n      <td>8.83</td>\n      <td>8.68</td>\n      <td>8.78</td>\n      <td>8.98</td>\n      <td>-0.20</td>\n      <td>-2.23</td>\n      <td>851296.70</td>\n      <td>744765.824</td>\n    </tr>\n    <tr>\n      <th>6</th>\n      <td>000001.SZ</td>\n      <td>20180710</td>\n      <td>9.02</td>\n      <td>9.02</td>\n      <td>8.89</td>\n      <td>8.98</td>\n      <td>9.03</td>\n      <td>-0.05</td>\n      <td>-0.55</td>\n      <td>896862.02</td>\n      <td>803038.965</td>\n    </tr>\n    <tr>\n      <th>7</th>\n      <td>000001.SZ</td>\n      <td>20180709</td>\n      <td>8.69</td>\n      <td>9.03</td>\n      <td>8.68</td>\n      <td>9.03</td>\n      <td>8.66</td>\n      <td>0.37</td>\n      <td>4.27</td>\n      <td>1409954.60</td>\n      <td>1255007.609</td>\n    </tr>\n    <tr>\n      <th>8</th>\n      <td>000001.SZ</td>\n      <td>20180706</td>\n      <td>8.61</td>\n      <td>8.78</td>\n      <td>8.45</td>\n      <td>8.66</td>\n      <td>8.60</td>\n      <td>0.06</td>\n      <td>0.70</td>\n      <td>988282.69</td>\n      <td>852071.526</td>\n    </tr>\n    <tr>\n      <th>9</th>\n      <td>000001.SZ</td>\n      <td>20180705</td>\n      <td>8.62</td>\n      <td>8.73</td>\n      <td>8.55</td>\n      <td>8.60</td>\n      <td>8.61</td>\n      <td>-0.01</td>\n      <td>-0.12</td>\n      <td>835768.77</td>\n      <td>722169.579</td>\n    </tr>\n    <tr>\n      <th>10</th>\n      <td>000001.SZ</td>\n      <td>20180704</td>\n      <td>8.63</td>\n      <td>8.75</td>\n      <td>8.61</td>\n      <td>8.61</td>\n      <td>8.67</td>\n      <td>-0.06</td>\n      <td>-0.69</td>\n      <td>711153.37</td>\n      <td>617278.559</td>\n    </tr>\n    <tr>\n      <th>11</th>\n      <td>000001.SZ</td>\n      <td>20180703</td>\n      <td>8.69</td>\n      <td>8.70</td>\n      <td>8.45</td>\n      <td>8.67</td>\n      <td>8.61</td>\n      <td>0.06</td>\n      <td>0.70</td>\n      <td>1274838.57</td>\n      <td>1096657.033</td>\n    </tr>\n    <tr>\n      <th>12</th>\n      <td>000001.SZ</td>\n      <td>20180702</td>\n      <td>9.05</td>\n      <td>9.05</td>\n      <td>8.55</td>\n      <td>8.61</td>\n      <td>9.09</td>\n      <td>-0.48</td>\n      <td>-5.28</td>\n      <td>1315520.13</td>\n      <td>1158545.868</td>\n    </tr>\n  </tbody>\n</table>\n</div>"
     },
     "execution_count": 26,
     "metadata": {},
     "output_type": "execute_result"
    }
   ],
   "source": [
    "df"
   ],
   "metadata": {
    "collapsed": false,
    "pycharm": {
     "name": "#%%\n"
    }
   }
  },
  {
   "cell_type": "code",
   "execution_count": 27,
   "outputs": [
    {
     "ename": "Exception",
     "evalue": "抱歉，您没有访问该接口的权限，权限的具体详情访问：https://tushare.pro/document/1?doc_id=108。",
     "output_type": "error",
     "traceback": [
      "\u001B[0;31m---------------------------------------------------------------------------\u001B[0m",
      "\u001B[0;31mException\u001B[0m                                 Traceback (most recent call last)",
      "Input \u001B[0;32mIn [27]\u001B[0m, in \u001B[0;36m<cell line: 1>\u001B[0;34m()\u001B[0m\n\u001B[0;32m----> 1\u001B[0m df \u001B[38;5;241m=\u001B[39m \u001B[43mpro\u001B[49m\u001B[38;5;241;43m.\u001B[39;49m\u001B[43mus_daily\u001B[49m\u001B[43m(\u001B[49m\u001B[43mts_code\u001B[49m\u001B[38;5;241;43m=\u001B[39;49m\u001B[38;5;124;43m'\u001B[39;49m\u001B[38;5;124;43mAAPL\u001B[39;49m\u001B[38;5;124;43m'\u001B[39;49m\u001B[43m,\u001B[49m\u001B[43m \u001B[49m\u001B[43mstart_date\u001B[49m\u001B[38;5;241;43m=\u001B[39;49m\u001B[38;5;124;43m'\u001B[39;49m\u001B[38;5;124;43m20190101\u001B[39;49m\u001B[38;5;124;43m'\u001B[39;49m\u001B[43m,\u001B[49m\u001B[43m \u001B[49m\u001B[43mend_date\u001B[49m\u001B[38;5;241;43m=\u001B[39;49m\u001B[38;5;124;43m'\u001B[39;49m\u001B[38;5;124;43m20190904\u001B[39;49m\u001B[38;5;124;43m'\u001B[39;49m\u001B[43m)\u001B[49m\n\u001B[1;32m      2\u001B[0m df\n",
      "File \u001B[0;32m~/opt/anaconda3/lib/python3.8/site-packages/tushare/pro/client.py:44\u001B[0m, in \u001B[0;36mDataApi.query\u001B[0;34m(self, api_name, fields, **kwargs)\u001B[0m\n\u001B[1;32m     42\u001B[0m result \u001B[38;5;241m=\u001B[39m json\u001B[38;5;241m.\u001B[39mloads(res\u001B[38;5;241m.\u001B[39mtext)\n\u001B[1;32m     43\u001B[0m \u001B[38;5;28;01mif\u001B[39;00m result[\u001B[38;5;124m'\u001B[39m\u001B[38;5;124mcode\u001B[39m\u001B[38;5;124m'\u001B[39m] \u001B[38;5;241m!=\u001B[39m \u001B[38;5;241m0\u001B[39m:\n\u001B[0;32m---> 44\u001B[0m     \u001B[38;5;28;01mraise\u001B[39;00m \u001B[38;5;167;01mException\u001B[39;00m(result[\u001B[38;5;124m'\u001B[39m\u001B[38;5;124mmsg\u001B[39m\u001B[38;5;124m'\u001B[39m])\n\u001B[1;32m     45\u001B[0m data \u001B[38;5;241m=\u001B[39m result[\u001B[38;5;124m'\u001B[39m\u001B[38;5;124mdata\u001B[39m\u001B[38;5;124m'\u001B[39m]\n\u001B[1;32m     46\u001B[0m columns \u001B[38;5;241m=\u001B[39m data[\u001B[38;5;124m'\u001B[39m\u001B[38;5;124mfields\u001B[39m\u001B[38;5;124m'\u001B[39m]\n",
      "\u001B[0;31mException\u001B[0m: 抱歉，您没有访问该接口的权限，权限的具体详情访问：https://tushare.pro/document/1?doc_id=108。"
     ]
    }
   ],
   "source": [
    "df = pro.us_daily(ts_code='AAPL', start_date='20190101', end_date='20190904')\n",
    "df"
   ],
   "metadata": {
    "collapsed": false,
    "pycharm": {
     "name": "#%%\n"
    }
   }
  },
  {
   "cell_type": "code",
   "execution_count": 28,
   "outputs": [
    {
     "name": "stdout",
     "output_type": "stream",
     "text": [
      "b'{\"errmsg\":\"Access_Token is expired or ilegal.\",\"errorcode\":-1302}'\n"
     ]
    }
   ],
   "source": [
    "import requests\n",
    "thsUrl = 'https://ft.10jqka.com.cn/ds_service/api/v1/real_time_quotation'\n",
    "accessToken = '12fe737bc2014f39f195a2b7b03e3b11ec63b66b'\n",
    "thsHeaders = {\"Content-Type\":\"application/json\",\"access_token\":accessToken}\n",
    "thsPara = {\"codes\":\"300033.SZ\",\"indicators\":\"open,high,low,latest\"}\n",
    "thsResponse = requests.post(url=thsUrl,json=thsPara,headers=thsHeaders)\n",
    "print(thsResponse.content)"
   ],
   "metadata": {
    "collapsed": false,
    "pycharm": {
     "name": "#%%\n"
    }
   }
  },
  {
   "cell_type": "code",
   "execution_count": 54,
   "outputs": [
    {
     "name": "stdout",
     "output_type": "stream",
     "text": [
      "本接口即将停止更新，请尽快使用Pro版接口：https://tushare.pro/document/2\n"
     ]
    },
    {
     "data": {
      "text/plain": "             open   high  close    low      volume  price_change  p_change  \\\ndate                                                                         \n2022-04-29  43.80  45.12  44.56  43.60   516386.38          0.90      2.06   \n2022-04-28  43.79  43.91  43.66  43.16   525999.38         -0.25     -0.57   \n2022-04-27  43.41  44.20  43.91  43.18   531083.50          0.32      0.73   \n2022-04-26  44.84  45.18  43.59  43.51   638923.62         -1.26     -2.81   \n2022-04-25  45.00  46.18  44.85  44.70   673920.38         -1.61     -3.46   \n...           ...    ...    ...    ...         ...           ...       ...   \n2022-01-10  52.99  53.56  53.08  52.50   761134.44          0.14      0.26   \n2022-01-07  51.49  53.33  52.94  51.45  1230759.75          1.64      3.20   \n2022-01-06  51.99  52.02  51.30  51.22   661658.25         -0.77     -1.48   \n2022-01-05  51.11  52.40  52.07  50.97  1181246.75          1.07      2.10   \n2022-01-04  50.40  51.06  51.00  50.10   635837.62          0.59      1.17   \n\n               ma5    ma10    ma20      v_ma5     v_ma10     v_ma20  turnover  \ndate                                                                           \n2022-04-29  44.114  45.260  46.884  577262.65  498821.07  471290.78      0.48  \n2022-04-28  44.494  45.634  47.091  553450.53  478593.94  474242.82      0.49  \n2022-04-27  45.006  46.087  47.268  558059.37  461878.90  464060.69      0.49  \n2022-04-26  45.406  46.478  47.465  527964.64  440545.69  457190.83      0.59  \n2022-04-25  45.976  46.966  47.667  474088.52  423392.88  453241.55      0.62  \n...            ...     ...     ...        ...        ...        ...       ...  \n2022-01-10  52.078  51.287  50.933  894127.36  652504.56  570728.46      0.70  \n2022-01-07  51.544  50.961  50.840  813500.52  607684.63  569557.07      1.14  \n2022-01-06  51.038  50.689  50.758  652924.55  525106.55  570483.89      0.61  \n2022-01-05  50.940  50.577  50.710  595886.71  501481.19  570078.19      1.09  \n2022-01-04  50.700  50.454  50.626  483109.07  422754.39  561590.95      0.59  \n\n[77 rows x 14 columns]",
      "text/html": "<div>\n<style scoped>\n    .dataframe tbody tr th:only-of-type {\n        vertical-align: middle;\n    }\n\n    .dataframe tbody tr th {\n        vertical-align: top;\n    }\n\n    .dataframe thead th {\n        text-align: right;\n    }\n</style>\n<table border=\"1\" class=\"dataframe\">\n  <thead>\n    <tr style=\"text-align: right;\">\n      <th></th>\n      <th>open</th>\n      <th>high</th>\n      <th>close</th>\n      <th>low</th>\n      <th>volume</th>\n      <th>price_change</th>\n      <th>p_change</th>\n      <th>ma5</th>\n      <th>ma10</th>\n      <th>ma20</th>\n      <th>v_ma5</th>\n      <th>v_ma10</th>\n      <th>v_ma20</th>\n      <th>turnover</th>\n    </tr>\n    <tr>\n      <th>date</th>\n      <th></th>\n      <th></th>\n      <th></th>\n      <th></th>\n      <th></th>\n      <th></th>\n      <th></th>\n      <th></th>\n      <th></th>\n      <th></th>\n      <th></th>\n      <th></th>\n      <th></th>\n      <th></th>\n    </tr>\n  </thead>\n  <tbody>\n    <tr>\n      <th>2022-04-29</th>\n      <td>43.80</td>\n      <td>45.12</td>\n      <td>44.56</td>\n      <td>43.60</td>\n      <td>516386.38</td>\n      <td>0.90</td>\n      <td>2.06</td>\n      <td>44.114</td>\n      <td>45.260</td>\n      <td>46.884</td>\n      <td>577262.65</td>\n      <td>498821.07</td>\n      <td>471290.78</td>\n      <td>0.48</td>\n    </tr>\n    <tr>\n      <th>2022-04-28</th>\n      <td>43.79</td>\n      <td>43.91</td>\n      <td>43.66</td>\n      <td>43.16</td>\n      <td>525999.38</td>\n      <td>-0.25</td>\n      <td>-0.57</td>\n      <td>44.494</td>\n      <td>45.634</td>\n      <td>47.091</td>\n      <td>553450.53</td>\n      <td>478593.94</td>\n      <td>474242.82</td>\n      <td>0.49</td>\n    </tr>\n    <tr>\n      <th>2022-04-27</th>\n      <td>43.41</td>\n      <td>44.20</td>\n      <td>43.91</td>\n      <td>43.18</td>\n      <td>531083.50</td>\n      <td>0.32</td>\n      <td>0.73</td>\n      <td>45.006</td>\n      <td>46.087</td>\n      <td>47.268</td>\n      <td>558059.37</td>\n      <td>461878.90</td>\n      <td>464060.69</td>\n      <td>0.49</td>\n    </tr>\n    <tr>\n      <th>2022-04-26</th>\n      <td>44.84</td>\n      <td>45.18</td>\n      <td>43.59</td>\n      <td>43.51</td>\n      <td>638923.62</td>\n      <td>-1.26</td>\n      <td>-2.81</td>\n      <td>45.406</td>\n      <td>46.478</td>\n      <td>47.465</td>\n      <td>527964.64</td>\n      <td>440545.69</td>\n      <td>457190.83</td>\n      <td>0.59</td>\n    </tr>\n    <tr>\n      <th>2022-04-25</th>\n      <td>45.00</td>\n      <td>46.18</td>\n      <td>44.85</td>\n      <td>44.70</td>\n      <td>673920.38</td>\n      <td>-1.61</td>\n      <td>-3.46</td>\n      <td>45.976</td>\n      <td>46.966</td>\n      <td>47.667</td>\n      <td>474088.52</td>\n      <td>423392.88</td>\n      <td>453241.55</td>\n      <td>0.62</td>\n    </tr>\n    <tr>\n      <th>...</th>\n      <td>...</td>\n      <td>...</td>\n      <td>...</td>\n      <td>...</td>\n      <td>...</td>\n      <td>...</td>\n      <td>...</td>\n      <td>...</td>\n      <td>...</td>\n      <td>...</td>\n      <td>...</td>\n      <td>...</td>\n      <td>...</td>\n      <td>...</td>\n    </tr>\n    <tr>\n      <th>2022-01-10</th>\n      <td>52.99</td>\n      <td>53.56</td>\n      <td>53.08</td>\n      <td>52.50</td>\n      <td>761134.44</td>\n      <td>0.14</td>\n      <td>0.26</td>\n      <td>52.078</td>\n      <td>51.287</td>\n      <td>50.933</td>\n      <td>894127.36</td>\n      <td>652504.56</td>\n      <td>570728.46</td>\n      <td>0.70</td>\n    </tr>\n    <tr>\n      <th>2022-01-07</th>\n      <td>51.49</td>\n      <td>53.33</td>\n      <td>52.94</td>\n      <td>51.45</td>\n      <td>1230759.75</td>\n      <td>1.64</td>\n      <td>3.20</td>\n      <td>51.544</td>\n      <td>50.961</td>\n      <td>50.840</td>\n      <td>813500.52</td>\n      <td>607684.63</td>\n      <td>569557.07</td>\n      <td>1.14</td>\n    </tr>\n    <tr>\n      <th>2022-01-06</th>\n      <td>51.99</td>\n      <td>52.02</td>\n      <td>51.30</td>\n      <td>51.22</td>\n      <td>661658.25</td>\n      <td>-0.77</td>\n      <td>-1.48</td>\n      <td>51.038</td>\n      <td>50.689</td>\n      <td>50.758</td>\n      <td>652924.55</td>\n      <td>525106.55</td>\n      <td>570483.89</td>\n      <td>0.61</td>\n    </tr>\n    <tr>\n      <th>2022-01-05</th>\n      <td>51.11</td>\n      <td>52.40</td>\n      <td>52.07</td>\n      <td>50.97</td>\n      <td>1181246.75</td>\n      <td>1.07</td>\n      <td>2.10</td>\n      <td>50.940</td>\n      <td>50.577</td>\n      <td>50.710</td>\n      <td>595886.71</td>\n      <td>501481.19</td>\n      <td>570078.19</td>\n      <td>1.09</td>\n    </tr>\n    <tr>\n      <th>2022-01-04</th>\n      <td>50.40</td>\n      <td>51.06</td>\n      <td>51.00</td>\n      <td>50.10</td>\n      <td>635837.62</td>\n      <td>0.59</td>\n      <td>1.17</td>\n      <td>50.700</td>\n      <td>50.454</td>\n      <td>50.626</td>\n      <td>483109.07</td>\n      <td>422754.39</td>\n      <td>561590.95</td>\n      <td>0.59</td>\n    </tr>\n  </tbody>\n</table>\n<p>77 rows × 14 columns</p>\n</div>"
     },
     "execution_count": 54,
     "metadata": {},
     "output_type": "execute_result"
    }
   ],
   "source": [
    "endDate = dt.datetime.now()\n",
    "startDate = endDate - dt.timedelta(days=300)\n",
    "endDate = endDate.strftime('%Y%m%d')\n",
    "startDate = startDate.strftime('%Y%m%d')\n",
    "ts.get_hist_data('601318',start=startDate,end=endDate)"
   ],
   "metadata": {
    "collapsed": false,
    "pycharm": {
     "name": "#%%\n"
    }
   }
  },
  {
   "cell_type": "code",
   "execution_count": 51,
   "outputs": [
    {
     "data": {
      "text/plain": "       ts_code trade_date   open   high    low  close  pre_close  change  \\\n0    000001.SZ   20201231  19.21  19.58  19.02  19.34      19.20    0.14   \n1    000001.SZ   20201230  19.00  19.20  18.72  19.20      19.17    0.03   \n2    000001.SZ   20201229  18.87  19.30  18.70  19.17      18.85    0.32   \n3    000001.SZ   20201228  18.02  18.86  17.96  18.85      18.04    0.81   \n4    000001.SZ   20201225  18.26  18.26  17.80  18.04      18.26   -0.22   \n..         ...        ...    ...    ...    ...    ...        ...     ...   \n725  000001.SZ   20180108  13.25  13.29  12.86  12.96      13.30   -0.34   \n726  000001.SZ   20180105  13.21  13.35  13.15  13.30      13.25    0.05   \n727  000001.SZ   20180104  13.32  13.37  13.13  13.25      13.33   -0.08   \n728  000001.SZ   20180103  13.73  13.86  13.20  13.33      13.70   -0.37   \n729  000001.SZ   20180102  13.35  13.93  13.32  13.70      13.30    0.40   \n\n     pct_chg         vol       amount  \n0     0.7292   924503.43  1781736.285  \n1     0.1565   978497.78  1854082.812  \n2     1.6976   963092.23  1837947.238  \n3     4.4900  1270337.06  2352947.321  \n4    -1.2048   577077.33  1038128.197  \n..       ...         ...          ...  \n725  -2.5600  2158620.81  2806099.169  \n726   0.3800  1210312.72  1603289.517  \n727  -0.6000  1854509.48  2454543.516  \n728  -2.7000  2962498.38  4006220.766  \n729   3.0100  2081592.55  2856543.822  \n\n[730 rows x 11 columns]",
      "text/html": "<div>\n<style scoped>\n    .dataframe tbody tr th:only-of-type {\n        vertical-align: middle;\n    }\n\n    .dataframe tbody tr th {\n        vertical-align: top;\n    }\n\n    .dataframe thead th {\n        text-align: right;\n    }\n</style>\n<table border=\"1\" class=\"dataframe\">\n  <thead>\n    <tr style=\"text-align: right;\">\n      <th></th>\n      <th>ts_code</th>\n      <th>trade_date</th>\n      <th>open</th>\n      <th>high</th>\n      <th>low</th>\n      <th>close</th>\n      <th>pre_close</th>\n      <th>change</th>\n      <th>pct_chg</th>\n      <th>vol</th>\n      <th>amount</th>\n    </tr>\n  </thead>\n  <tbody>\n    <tr>\n      <th>0</th>\n      <td>000001.SZ</td>\n      <td>20201231</td>\n      <td>19.21</td>\n      <td>19.58</td>\n      <td>19.02</td>\n      <td>19.34</td>\n      <td>19.20</td>\n      <td>0.14</td>\n      <td>0.7292</td>\n      <td>924503.43</td>\n      <td>1781736.285</td>\n    </tr>\n    <tr>\n      <th>1</th>\n      <td>000001.SZ</td>\n      <td>20201230</td>\n      <td>19.00</td>\n      <td>19.20</td>\n      <td>18.72</td>\n      <td>19.20</td>\n      <td>19.17</td>\n      <td>0.03</td>\n      <td>0.1565</td>\n      <td>978497.78</td>\n      <td>1854082.812</td>\n    </tr>\n    <tr>\n      <th>2</th>\n      <td>000001.SZ</td>\n      <td>20201229</td>\n      <td>18.87</td>\n      <td>19.30</td>\n      <td>18.70</td>\n      <td>19.17</td>\n      <td>18.85</td>\n      <td>0.32</td>\n      <td>1.6976</td>\n      <td>963092.23</td>\n      <td>1837947.238</td>\n    </tr>\n    <tr>\n      <th>3</th>\n      <td>000001.SZ</td>\n      <td>20201228</td>\n      <td>18.02</td>\n      <td>18.86</td>\n      <td>17.96</td>\n      <td>18.85</td>\n      <td>18.04</td>\n      <td>0.81</td>\n      <td>4.4900</td>\n      <td>1270337.06</td>\n      <td>2352947.321</td>\n    </tr>\n    <tr>\n      <th>4</th>\n      <td>000001.SZ</td>\n      <td>20201225</td>\n      <td>18.26</td>\n      <td>18.26</td>\n      <td>17.80</td>\n      <td>18.04</td>\n      <td>18.26</td>\n      <td>-0.22</td>\n      <td>-1.2048</td>\n      <td>577077.33</td>\n      <td>1038128.197</td>\n    </tr>\n    <tr>\n      <th>...</th>\n      <td>...</td>\n      <td>...</td>\n      <td>...</td>\n      <td>...</td>\n      <td>...</td>\n      <td>...</td>\n      <td>...</td>\n      <td>...</td>\n      <td>...</td>\n      <td>...</td>\n      <td>...</td>\n    </tr>\n    <tr>\n      <th>725</th>\n      <td>000001.SZ</td>\n      <td>20180108</td>\n      <td>13.25</td>\n      <td>13.29</td>\n      <td>12.86</td>\n      <td>12.96</td>\n      <td>13.30</td>\n      <td>-0.34</td>\n      <td>-2.5600</td>\n      <td>2158620.81</td>\n      <td>2806099.169</td>\n    </tr>\n    <tr>\n      <th>726</th>\n      <td>000001.SZ</td>\n      <td>20180105</td>\n      <td>13.21</td>\n      <td>13.35</td>\n      <td>13.15</td>\n      <td>13.30</td>\n      <td>13.25</td>\n      <td>0.05</td>\n      <td>0.3800</td>\n      <td>1210312.72</td>\n      <td>1603289.517</td>\n    </tr>\n    <tr>\n      <th>727</th>\n      <td>000001.SZ</td>\n      <td>20180104</td>\n      <td>13.32</td>\n      <td>13.37</td>\n      <td>13.13</td>\n      <td>13.25</td>\n      <td>13.33</td>\n      <td>-0.08</td>\n      <td>-0.6000</td>\n      <td>1854509.48</td>\n      <td>2454543.516</td>\n    </tr>\n    <tr>\n      <th>728</th>\n      <td>000001.SZ</td>\n      <td>20180103</td>\n      <td>13.73</td>\n      <td>13.86</td>\n      <td>13.20</td>\n      <td>13.33</td>\n      <td>13.70</td>\n      <td>-0.37</td>\n      <td>-2.7000</td>\n      <td>2962498.38</td>\n      <td>4006220.766</td>\n    </tr>\n    <tr>\n      <th>729</th>\n      <td>000001.SZ</td>\n      <td>20180102</td>\n      <td>13.35</td>\n      <td>13.93</td>\n      <td>13.32</td>\n      <td>13.70</td>\n      <td>13.30</td>\n      <td>0.40</td>\n      <td>3.0100</td>\n      <td>2081592.55</td>\n      <td>2856543.822</td>\n    </tr>\n  </tbody>\n</table>\n<p>730 rows × 11 columns</p>\n</div>"
     },
     "execution_count": 51,
     "metadata": {},
     "output_type": "execute_result"
    }
   ],
   "source": [
    "pro.daily(ts_code='000001.SZ', start_date='20180101', end_date='20210101')"
   ],
   "metadata": {
    "collapsed": false,
    "pycharm": {
     "name": "#%%\n"
    }
   }
  },
  {
   "cell_type": "code",
   "execution_count": 73,
   "outputs": [],
   "source": [
    "stockList = ['600519.SH','300496.SZ','000975.SZ','300464.SZ','601318.SH']"
   ],
   "metadata": {
    "collapsed": false,
    "pycharm": {
     "name": "#%%\n"
    }
   }
  },
  {
   "cell_type": "code",
   "execution_count": 75,
   "outputs": [],
   "source": [
    "def get_stock_data(stocks, start, end):\n",
    "    stockData = pd.DataFrame()\n",
    "    returns = pd.DataFrame()\n",
    "    for stock in stocks:\n",
    "\n",
    "        stock_data = pro.daily(ts_code=stock, start_date=start, end_date=end)\n",
    "        stockData[stock] = stock_data['close']\n",
    "        returns[stock] = stock_data['pct_chg']\n",
    "    stockData.index = stock_data['trade_date']\n",
    "\n",
    "    returns.index = stock_data['trade_date']\n",
    "    return stockData, returns"
   ],
   "metadata": {
    "collapsed": false,
    "pycharm": {
     "name": "#%%\n"
    }
   }
  },
  {
   "cell_type": "code",
   "execution_count": 78,
   "outputs": [],
   "source": [
    "def get_data(stocks, start, end):\n",
    "    stockData, returns = get_stock_data(stocks, start, end)\n",
    "    meanReturns = returns.mean()\n",
    "    covMatrix = returns.cov()\n",
    "    return meanReturns, covMatrix"
   ],
   "metadata": {
    "collapsed": false,
    "pycharm": {
     "name": "#%%\n"
    }
   }
  },
  {
   "cell_type": "code",
   "execution_count": 80,
   "outputs": [],
   "source": [
    "meanReturns, covMatrix = get_data(stockList, startDate, endDate)"
   ],
   "metadata": {
    "collapsed": false,
    "pycharm": {
     "name": "#%%\n"
    }
   }
  },
  {
   "cell_type": "code",
   "execution_count": 113,
   "outputs": [
    {
     "data": {
      "text/plain": "(600519.SH   -0.020579\n 300496.SZ   -0.197774\n 000975.SZ   -0.000622\n 300464.SZ   -0.231379\n 601318.SH   -0.144580\n dtype: float64,\n            600519.SH  300496.SZ  000975.SZ  300464.SZ  601318.SH\n 600519.SH   5.231604   2.515533  -0.429877   0.370035   1.556363\n 300496.SZ   2.515533  13.212745   0.946988   3.283867   1.011571\n 000975.SZ  -0.429877   0.946988   7.280402   2.146923   1.199458\n 300464.SZ   0.370035   3.283867   2.146923  18.036819   1.148924\n 601318.SH   1.556363   1.011571   1.199458   1.148924   3.584748)"
     },
     "execution_count": 113,
     "metadata": {},
     "output_type": "execute_result"
    }
   ],
   "source": [
    "meanReturns, covMatrix"
   ],
   "metadata": {
    "collapsed": false,
    "pycharm": {
     "name": "#%%\n"
    }
   }
  },
  {
   "cell_type": "code",
   "execution_count": 99,
   "outputs": [
    {
     "data": {
      "text/plain": "array([0.21984562, 0.14886883, 0.20225963, 0.15811684, 0.27090909])"
     },
     "execution_count": 99,
     "metadata": {},
     "output_type": "execute_result"
    }
   ],
   "source": [
    "weights = np.random.random(len(meanReturns))\n",
    "weights /= np.sum(weights)\n",
    "weights"
   ],
   "metadata": {
    "collapsed": false,
    "pycharm": {
     "name": "#%%\n"
    }
   }
  },
  {
   "cell_type": "code",
   "execution_count": 100,
   "outputs": [
    {
     "data": {
      "text/plain": "array([[-0.02057919, -0.02057919, -0.02057919, -0.02057919, -0.02057919,\n        -0.02057919, -0.02057919, -0.02057919, -0.02057919, -0.02057919,\n        -0.02057919, -0.02057919, -0.02057919, -0.02057919, -0.02057919,\n        -0.02057919, -0.02057919, -0.02057919, -0.02057919, -0.02057919,\n        -0.02057919, -0.02057919, -0.02057919, -0.02057919, -0.02057919,\n        -0.02057919, -0.02057919, -0.02057919, -0.02057919, -0.02057919,\n        -0.02057919, -0.02057919, -0.02057919, -0.02057919, -0.02057919,\n        -0.02057919, -0.02057919, -0.02057919, -0.02057919, -0.02057919,\n        -0.02057919, -0.02057919, -0.02057919, -0.02057919, -0.02057919,\n        -0.02057919, -0.02057919, -0.02057919, -0.02057919, -0.02057919,\n        -0.02057919, -0.02057919, -0.02057919, -0.02057919, -0.02057919,\n        -0.02057919, -0.02057919, -0.02057919, -0.02057919, -0.02057919,\n        -0.02057919, -0.02057919, -0.02057919, -0.02057919, -0.02057919,\n        -0.02057919, -0.02057919, -0.02057919, -0.02057919, -0.02057919,\n        -0.02057919, -0.02057919, -0.02057919, -0.02057919, -0.02057919,\n        -0.02057919, -0.02057919, -0.02057919, -0.02057919, -0.02057919,\n        -0.02057919, -0.02057919, -0.02057919, -0.02057919, -0.02057919,\n        -0.02057919, -0.02057919, -0.02057919, -0.02057919, -0.02057919,\n        -0.02057919, -0.02057919, -0.02057919, -0.02057919, -0.02057919,\n        -0.02057919, -0.02057919, -0.02057919, -0.02057919, -0.02057919],\n       [-0.19777411, -0.19777411, -0.19777411, -0.19777411, -0.19777411,\n        -0.19777411, -0.19777411, -0.19777411, -0.19777411, -0.19777411,\n        -0.19777411, -0.19777411, -0.19777411, -0.19777411, -0.19777411,\n        -0.19777411, -0.19777411, -0.19777411, -0.19777411, -0.19777411,\n        -0.19777411, -0.19777411, -0.19777411, -0.19777411, -0.19777411,\n        -0.19777411, -0.19777411, -0.19777411, -0.19777411, -0.19777411,\n        -0.19777411, -0.19777411, -0.19777411, -0.19777411, -0.19777411,\n        -0.19777411, -0.19777411, -0.19777411, -0.19777411, -0.19777411,\n        -0.19777411, -0.19777411, -0.19777411, -0.19777411, -0.19777411,\n        -0.19777411, -0.19777411, -0.19777411, -0.19777411, -0.19777411,\n        -0.19777411, -0.19777411, -0.19777411, -0.19777411, -0.19777411,\n        -0.19777411, -0.19777411, -0.19777411, -0.19777411, -0.19777411,\n        -0.19777411, -0.19777411, -0.19777411, -0.19777411, -0.19777411,\n        -0.19777411, -0.19777411, -0.19777411, -0.19777411, -0.19777411,\n        -0.19777411, -0.19777411, -0.19777411, -0.19777411, -0.19777411,\n        -0.19777411, -0.19777411, -0.19777411, -0.19777411, -0.19777411,\n        -0.19777411, -0.19777411, -0.19777411, -0.19777411, -0.19777411,\n        -0.19777411, -0.19777411, -0.19777411, -0.19777411, -0.19777411,\n        -0.19777411, -0.19777411, -0.19777411, -0.19777411, -0.19777411,\n        -0.19777411, -0.19777411, -0.19777411, -0.19777411, -0.19777411],\n       [-0.00062234, -0.00062234, -0.00062234, -0.00062234, -0.00062234,\n        -0.00062234, -0.00062234, -0.00062234, -0.00062234, -0.00062234,\n        -0.00062234, -0.00062234, -0.00062234, -0.00062234, -0.00062234,\n        -0.00062234, -0.00062234, -0.00062234, -0.00062234, -0.00062234,\n        -0.00062234, -0.00062234, -0.00062234, -0.00062234, -0.00062234,\n        -0.00062234, -0.00062234, -0.00062234, -0.00062234, -0.00062234,\n        -0.00062234, -0.00062234, -0.00062234, -0.00062234, -0.00062234,\n        -0.00062234, -0.00062234, -0.00062234, -0.00062234, -0.00062234,\n        -0.00062234, -0.00062234, -0.00062234, -0.00062234, -0.00062234,\n        -0.00062234, -0.00062234, -0.00062234, -0.00062234, -0.00062234,\n        -0.00062234, -0.00062234, -0.00062234, -0.00062234, -0.00062234,\n        -0.00062234, -0.00062234, -0.00062234, -0.00062234, -0.00062234,\n        -0.00062234, -0.00062234, -0.00062234, -0.00062234, -0.00062234,\n        -0.00062234, -0.00062234, -0.00062234, -0.00062234, -0.00062234,\n        -0.00062234, -0.00062234, -0.00062234, -0.00062234, -0.00062234,\n        -0.00062234, -0.00062234, -0.00062234, -0.00062234, -0.00062234,\n        -0.00062234, -0.00062234, -0.00062234, -0.00062234, -0.00062234,\n        -0.00062234, -0.00062234, -0.00062234, -0.00062234, -0.00062234,\n        -0.00062234, -0.00062234, -0.00062234, -0.00062234, -0.00062234,\n        -0.00062234, -0.00062234, -0.00062234, -0.00062234, -0.00062234],\n       [-0.23137919, -0.23137919, -0.23137919, -0.23137919, -0.23137919,\n        -0.23137919, -0.23137919, -0.23137919, -0.23137919, -0.23137919,\n        -0.23137919, -0.23137919, -0.23137919, -0.23137919, -0.23137919,\n        -0.23137919, -0.23137919, -0.23137919, -0.23137919, -0.23137919,\n        -0.23137919, -0.23137919, -0.23137919, -0.23137919, -0.23137919,\n        -0.23137919, -0.23137919, -0.23137919, -0.23137919, -0.23137919,\n        -0.23137919, -0.23137919, -0.23137919, -0.23137919, -0.23137919,\n        -0.23137919, -0.23137919, -0.23137919, -0.23137919, -0.23137919,\n        -0.23137919, -0.23137919, -0.23137919, -0.23137919, -0.23137919,\n        -0.23137919, -0.23137919, -0.23137919, -0.23137919, -0.23137919,\n        -0.23137919, -0.23137919, -0.23137919, -0.23137919, -0.23137919,\n        -0.23137919, -0.23137919, -0.23137919, -0.23137919, -0.23137919,\n        -0.23137919, -0.23137919, -0.23137919, -0.23137919, -0.23137919,\n        -0.23137919, -0.23137919, -0.23137919, -0.23137919, -0.23137919,\n        -0.23137919, -0.23137919, -0.23137919, -0.23137919, -0.23137919,\n        -0.23137919, -0.23137919, -0.23137919, -0.23137919, -0.23137919,\n        -0.23137919, -0.23137919, -0.23137919, -0.23137919, -0.23137919,\n        -0.23137919, -0.23137919, -0.23137919, -0.23137919, -0.23137919,\n        -0.23137919, -0.23137919, -0.23137919, -0.23137919, -0.23137919,\n        -0.23137919, -0.23137919, -0.23137919, -0.23137919, -0.23137919],\n       [-0.1445802 , -0.1445802 , -0.1445802 , -0.1445802 , -0.1445802 ,\n        -0.1445802 , -0.1445802 , -0.1445802 , -0.1445802 , -0.1445802 ,\n        -0.1445802 , -0.1445802 , -0.1445802 , -0.1445802 , -0.1445802 ,\n        -0.1445802 , -0.1445802 , -0.1445802 , -0.1445802 , -0.1445802 ,\n        -0.1445802 , -0.1445802 , -0.1445802 , -0.1445802 , -0.1445802 ,\n        -0.1445802 , -0.1445802 , -0.1445802 , -0.1445802 , -0.1445802 ,\n        -0.1445802 , -0.1445802 , -0.1445802 , -0.1445802 , -0.1445802 ,\n        -0.1445802 , -0.1445802 , -0.1445802 , -0.1445802 , -0.1445802 ,\n        -0.1445802 , -0.1445802 , -0.1445802 , -0.1445802 , -0.1445802 ,\n        -0.1445802 , -0.1445802 , -0.1445802 , -0.1445802 , -0.1445802 ,\n        -0.1445802 , -0.1445802 , -0.1445802 , -0.1445802 , -0.1445802 ,\n        -0.1445802 , -0.1445802 , -0.1445802 , -0.1445802 , -0.1445802 ,\n        -0.1445802 , -0.1445802 , -0.1445802 , -0.1445802 , -0.1445802 ,\n        -0.1445802 , -0.1445802 , -0.1445802 , -0.1445802 , -0.1445802 ,\n        -0.1445802 , -0.1445802 , -0.1445802 , -0.1445802 , -0.1445802 ,\n        -0.1445802 , -0.1445802 , -0.1445802 , -0.1445802 , -0.1445802 ,\n        -0.1445802 , -0.1445802 , -0.1445802 , -0.1445802 , -0.1445802 ,\n        -0.1445802 , -0.1445802 , -0.1445802 , -0.1445802 , -0.1445802 ,\n        -0.1445802 , -0.1445802 , -0.1445802 , -0.1445802 , -0.1445802 ,\n        -0.1445802 , -0.1445802 , -0.1445802 , -0.1445802 , -0.1445802 ]])"
     },
     "execution_count": 100,
     "metadata": {},
     "output_type": "execute_result"
    }
   ],
   "source": [
    "mc_sims = 100\n",
    "T = 100\n",
    "meanM = np.full(shape=(T, len(weights)), fill_value=meanReturns)\n",
    "meanM = meanM.T\n",
    "meanM"
   ],
   "metadata": {
    "collapsed": false,
    "pycharm": {
     "name": "#%%\n"
    }
   }
  },
  {
   "cell_type": "code",
   "execution_count": 101,
   "outputs": [
    {
     "data": {
      "text/plain": "array([[0., 0., 0., ..., 0., 0., 0.],\n       [0., 0., 0., ..., 0., 0., 0.],\n       [0., 0., 0., ..., 0., 0., 0.],\n       ...,\n       [0., 0., 0., ..., 0., 0., 0.],\n       [0., 0., 0., ..., 0., 0., 0.],\n       [0., 0., 0., ..., 0., 0., 0.]])"
     },
     "execution_count": 101,
     "metadata": {},
     "output_type": "execute_result"
    }
   ],
   "source": [
    "portfolio_sims = np.full(shape=(T, mc_sims),fill_value=0.0)\n",
    "portfolio_sims"
   ],
   "metadata": {
    "collapsed": false,
    "pycharm": {
     "name": "#%%\n"
    }
   }
  },
  {
   "cell_type": "code",
   "execution_count": 108,
   "outputs": [],
   "source": [
    "initial_portfolio = 1000"
   ],
   "metadata": {
    "collapsed": false,
    "pycharm": {
     "name": "#%%\n"
    }
   }
  },
  {
   "cell_type": "code",
   "execution_count": 109,
   "outputs": [],
   "source": [
    "for m in range(0, mc_sims):\n",
    "    Z = np.random.normal(size=(T,len(weights)))\n",
    "    L = np.linalg.cholesky(covMatrix)\n",
    "    dailyReturns = meanM + np.inner(L, Z)\n",
    "    portfolio_sims[:,m] = np.cumprod(np.inner(weights, dailyReturns.T)+1)*initial_portfolio"
   ],
   "metadata": {
    "collapsed": false,
    "pycharm": {
     "name": "#%%\n"
    }
   }
  },
  {
   "cell_type": "code",
   "execution_count": 110,
   "outputs": [
    {
     "data": {
      "text/plain": "array([[ 2.34307168e+03, -8.52709975e+02, -7.80566567e+02, ...,\n         7.56377377e+02, -8.53381771e+02,  3.46007545e+02],\n       [ 7.29995441e+03, -8.64134033e+01, -2.75489186e+03, ...,\n         1.67264373e+03, -1.12715317e+03,  7.23496682e+02],\n       [ 2.79674796e+04, -4.96101764e+01, -2.43861525e+03, ...,\n         8.30680130e+02, -2.52261155e+03,  1.28095707e+03],\n       ...,\n       [-6.59496642e+05,  7.70730650e-05, -2.56321407e+08, ...,\n        -4.06931626e+03, -8.09173883e-04,  7.66403713e+03],\n       [-1.01535859e+06,  2.69454938e-04,  4.85426274e+07, ...,\n        -7.11228613e+03,  9.42408463e-04, -1.66726816e+04],\n       [-3.66637431e+05, -2.27400191e-05, -2.23302543e+07, ...,\n        -8.48355529e+03, -4.62058708e-04, -7.39362829e+04]])"
     },
     "execution_count": 110,
     "metadata": {},
     "output_type": "execute_result"
    }
   ],
   "source": [
    "portfolio_sims"
   ],
   "metadata": {
    "collapsed": false,
    "pycharm": {
     "name": "#%%\n"
    }
   }
  },
  {
   "cell_type": "code",
   "execution_count": 111,
   "outputs": [
    {
     "data": {
      "text/plain": "<Figure size 432x288 with 1 Axes>",
      "image/png": "[encoded data removed]"
     },
     "metadata": {
      "needs_background": "light"
     },
     "output_type": "display_data"
    }
   ],
   "source": [
    "import matplotlib.pyplot as plt\n",
    "plt.plot(portfolio_sims)\n",
    "plt.ylabel('Portfolio Value($)')\n",
    "plt.xlabel('Days')\n",
    "plt.title(\"Monte Carlo Simulation of a stock portfolio\")\n",
    "plt.show()"
   ],
   "metadata": {
    "collapsed": false,
    "pycharm": {
     "name": "#%%\n"
    }
   }
  },
  {
   "cell_type": "code",
   "execution_count": 115,
   "outputs": [],
   "source": [
    "from urllib.parse import urlencode\n",
    "from pandas_datareader import data as pdr"
   ],
   "metadata": {
    "collapsed": false,
    "pycharm": {
     "name": "#%%\n"
    }
   }
  },
  {
   "cell_type": "code",
   "execution_count": 116,
   "outputs": [
    {
     "name": "stdout",
     "output_type": "stream",
     "text": [
      "[*********************100%***********************]  3 of 3 completed\n",
      "\n",
      "3 Failed downloads:\n",
      "- CBA.AX: No data found for this date range, symbol may be delisted\n",
      "- TLS.AX: No data found for this date range, symbol may be delisted\n",
      "- BHP.AX: No data found for this date range, symbol may be delisted\n"
     ]
    },
    {
     "data": {
      "text/plain": "Empty DataFrame\nColumns: [(Adj Close, BHP.AX), (Adj Close, CBA.AX), (Adj Close, TLS.AX), (Close, BHP.AX), (Close, CBA.AX), (Close, TLS.AX), (High, BHP.AX), (High, CBA.AX), (High, TLS.AX), (Low, BHP.AX), (Low, CBA.AX), (Low, TLS.AX), (Open, BHP.AX), (Open, CBA.AX), (Open, TLS.AX), (Volume, BHP.AX), (Volume, CBA.AX), (Volume, TLS.AX)]\nIndex: []",
      "text/html": "<div>\n<style scoped>\n    .dataframe tbody tr th:only-of-type {\n        vertical-align: middle;\n    }\n\n    .dataframe tbody tr th {\n        vertical-align: top;\n    }\n\n    .dataframe thead tr th {\n        text-align: left;\n    }\n\n    .dataframe thead tr:last-of-type th {\n        text-align: right;\n    }\n</style>\n<table border=\"1\" class=\"dataframe\">\n  <thead>\n    <tr>\n      <th></th>\n      <th colspan=\"3\" halign=\"left\">Adj Close</th>\n      <th colspan=\"3\" halign=\"left\">Close</th>\n      <th colspan=\"3\" halign=\"left\">High</th>\n      <th colspan=\"3\" halign=\"left\">Low</th>\n      <th colspan=\"3\" halign=\"left\">Open</th>\n      <th colspan=\"3\" halign=\"left\">Volume</th>\n    </tr>\n    <tr>\n      <th></th>\n      <th>BHP.AX</th>\n      <th>CBA.AX</th>\n      <th>TLS.AX</th>\n      <th>BHP.AX</th>\n      <th>CBA.AX</th>\n      <th>TLS.AX</th>\n      <th>BHP.AX</th>\n      <th>CBA.AX</th>\n      <th>TLS.AX</th>\n      <th>BHP.AX</th>\n      <th>CBA.AX</th>\n      <th>TLS.AX</th>\n      <th>BHP.AX</th>\n      <th>CBA.AX</th>\n      <th>TLS.AX</th>\n      <th>BHP.AX</th>\n      <th>CBA.AX</th>\n      <th>TLS.AX</th>\n    </tr>\n    <tr>\n      <th>Date</th>\n      <th></th>\n      <th></th>\n      <th></th>\n      <th></th>\n      <th></th>\n      <th></th>\n      <th></th>\n      <th></th>\n      <th></th>\n      <th></th>\n      <th></th>\n      <th></th>\n      <th></th>\n      <th></th>\n      <th></th>\n      <th></th>\n      <th></th>\n      <th></th>\n    </tr>\n  </thead>\n  <tbody>\n  </tbody>\n</table>\n</div>"
     },
     "execution_count": 116,
     "metadata": {},
     "output_type": "execute_result"
    }
   ],
   "source": [
    "stockList = ['CBA','BHP','TLS']\n",
    "stocks = [stock +'.AX' for stock in stockList]\n",
    "endDate = dt.datetime.now()\n",
    "startDate = endDate - dt.timedelta(days=300)\n",
    "pdr.get_data_yahoo(stocks, startDate, endDate)"
   ],
   "metadata": {
    "collapsed": false,
    "pycharm": {
     "name": "#%%\n"
    }
   }
  },
  {
   "cell_type": "code",
   "execution_count": 119,
   "outputs": [
    {
     "name": "stdout",
     "output_type": "stream",
     "text": [
      "- AAPL: No data found for this date range, symbol may be delisted\n"
     ]
    },
    {
     "data": {
      "text/plain": "Empty DataFrame\nColumns: [Open, High, Low, Close, Adj Close, Volume]\nIndex: []",
      "text/html": "<div>\n<style scoped>\n    .dataframe tbody tr th:only-of-type {\n        vertical-align: middle;\n    }\n\n    .dataframe tbody tr th {\n        vertical-align: top;\n    }\n\n    .dataframe thead th {\n        text-align: right;\n    }\n</style>\n<table border=\"1\" class=\"dataframe\">\n  <thead>\n    <tr style=\"text-align: right;\">\n      <th></th>\n      <th>Open</th>\n      <th>High</th>\n      <th>Low</th>\n      <th>Close</th>\n      <th>Adj Close</th>\n      <th>Volume</th>\n    </tr>\n    <tr>\n      <th>Date</th>\n      <th></th>\n      <th></th>\n      <th></th>\n      <th></th>\n      <th></th>\n      <th></th>\n    </tr>\n  </thead>\n  <tbody>\n  </tbody>\n</table>\n</div>"
     },
     "execution_count": 119,
     "metadata": {},
     "output_type": "execute_result"
    }
   ],
   "source": [
    "import yfinance as yf\n",
    "aapl= yf.Ticker(\"aapl\")\n",
    "aapl.history()"
   ],
   "metadata": {
    "collapsed": false,
    "pycharm": {
     "name": "#%%\n"
    }
   }
  },
  {
   "cell_type": "code",
   "execution_count": 122,
   "outputs": [
    {
     "data": {
      "text/plain": "            GS10\nDATE            \n2017-06-01  2.19\n2017-07-01  2.32\n2017-08-01  2.21\n2017-09-01  2.20\n2017-10-01  2.36\n2017-11-01  2.35\n2017-12-01  2.40\n2018-01-01  2.58\n2018-02-01  2.86\n2018-03-01  2.84\n2018-04-01  2.87\n2018-05-01  2.98\n2018-06-01  2.91\n2018-07-01  2.89\n2018-08-01  2.89\n2018-09-01  3.00\n2018-10-01  3.15\n2018-11-01  3.12\n2018-12-01  2.83\n2019-01-01  2.71\n2019-02-01  2.68\n2019-03-01  2.57\n2019-04-01  2.53\n2019-05-01  2.40\n2019-06-01  2.07\n2019-07-01  2.06\n2019-08-01  1.63\n2019-09-01  1.70\n2019-10-01  1.71\n2019-11-01  1.81\n2019-12-01  1.86\n2020-01-01  1.76\n2020-02-01  1.50\n2020-03-01  0.87\n2020-04-01  0.66\n2020-05-01  0.67\n2020-06-01  0.73\n2020-07-01  0.62\n2020-08-01  0.65\n2020-09-01  0.68\n2020-10-01  0.79\n2020-11-01  0.87\n2020-12-01  0.93\n2021-01-01  1.08\n2021-02-01  1.26\n2021-03-01  1.61\n2021-04-01  1.64\n2021-05-01  1.62\n2021-06-01  1.52\n2021-07-01  1.32\n2021-08-01  1.28\n2021-09-01  1.37\n2021-10-01  1.58\n2021-11-01  1.56\n2021-12-01  1.47\n2022-01-01  1.76\n2022-02-01  1.93\n2022-03-01  2.13\n2022-04-01  2.75",
      "text/html": "<div>\n<style scoped>\n    .dataframe tbody tr th:only-of-type {\n        vertical-align: middle;\n    }\n\n    .dataframe tbody tr th {\n        vertical-align: top;\n    }\n\n    .dataframe thead th {\n        text-align: right;\n    }\n</style>\n<table border=\"1\" class=\"dataframe\">\n  <thead>\n    <tr style=\"text-align: right;\">\n      <th></th>\n      <th>GS10</th>\n    </tr>\n    <tr>\n      <th>DATE</th>\n      <th></th>\n    </tr>\n  </thead>\n  <tbody>\n    <tr>\n      <th>2017-06-01</th>\n      <td>2.19</td>\n    </tr>\n    <tr>\n      <th>2017-07-01</th>\n      <td>2.32</td>\n    </tr>\n    <tr>\n      <th>2017-08-01</th>\n      <td>2.21</td>\n    </tr>\n    <tr>\n      <th>2017-09-01</th>\n      <td>2.20</td>\n    </tr>\n    <tr>\n      <th>2017-10-01</th>\n      <td>2.36</td>\n    </tr>\n    <tr>\n      <th>2017-11-01</th>\n      <td>2.35</td>\n    </tr>\n    <tr>\n      <th>2017-12-01</th>\n      <td>2.40</td>\n    </tr>\n    <tr>\n      <th>2018-01-01</th>\n      <td>2.58</td>\n    </tr>\n    <tr>\n      <th>2018-02-01</th>\n      <td>2.86</td>\n    </tr>\n    <tr>\n      <th>2018-03-01</th>\n      <td>2.84</td>\n    </tr>\n    <tr>\n      <th>2018-04-01</th>\n      <td>2.87</td>\n    </tr>\n    <tr>\n      <th>2018-05-01</th>\n      <td>2.98</td>\n    </tr>\n    <tr>\n      <th>2018-06-01</th>\n      <td>2.91</td>\n    </tr>\n    <tr>\n      <th>2018-07-01</th>\n      <td>2.89</td>\n    </tr>\n    <tr>\n      <th>2018-08-01</th>\n      <td>2.89</td>\n    </tr>\n    <tr>\n      <th>2018-09-01</th>\n      <td>3.00</td>\n    </tr>\n    <tr>\n      <th>2018-10-01</th>\n      <td>3.15</td>\n    </tr>\n    <tr>\n      <th>2018-11-01</th>\n      <td>3.12</td>\n    </tr>\n    <tr>\n      <th>2018-12-01</th>\n      <td>2.83</td>\n    </tr>\n    <tr>\n      <th>2019-01-01</th>\n      <td>2.71</td>\n    </tr>\n    <tr>\n      <th>2019-02-01</th>\n      <td>2.68</td>\n    </tr>\n    <tr>\n      <th>2019-03-01</th>\n      <td>2.57</td>\n    </tr>\n    <tr>\n      <th>2019-04-01</th>\n      <td>2.53</td>\n    </tr>\n    <tr>\n      <th>2019-05-01</th>\n      <td>2.40</td>\n    </tr>\n    <tr>\n      <th>2019-06-01</th>\n      <td>2.07</td>\n    </tr>\n    <tr>\n      <th>2019-07-01</th>\n      <td>2.06</td>\n    </tr>\n    <tr>\n      <th>2019-08-01</th>\n      <td>1.63</td>\n    </tr>\n    <tr>\n      <th>2019-09-01</th>\n      <td>1.70</td>\n    </tr>\n    <tr>\n      <th>2019-10-01</th>\n      <td>1.71</td>\n    </tr>\n    <tr>\n      <th>2019-11-01</th>\n      <td>1.81</td>\n    </tr>\n    <tr>\n      <th>2019-12-01</th>\n      <td>1.86</td>\n    </tr>\n    <tr>\n      <th>2020-01-01</th>\n      <td>1.76</td>\n    </tr>\n    <tr>\n      <th>2020-02-01</th>\n      <td>1.50</td>\n    </tr>\n    <tr>\n      <th>2020-03-01</th>\n      <td>0.87</td>\n    </tr>\n    <tr>\n      <th>2020-04-01</th>\n      <td>0.66</td>\n    </tr>\n    <tr>\n      <th>2020-05-01</th>\n      <td>0.67</td>\n    </tr>\n    <tr>\n      <th>2020-06-01</th>\n      <td>0.73</td>\n    </tr>\n    <tr>\n      <th>2020-07-01</th>\n      <td>0.62</td>\n    </tr>\n    <tr>\n      <th>2020-08-01</th>\n      <td>0.65</td>\n    </tr>\n    <tr>\n      <th>2020-09-01</th>\n      <td>0.68</td>\n    </tr>\n    <tr>\n      <th>2020-10-01</th>\n      <td>0.79</td>\n    </tr>\n    <tr>\n      <th>2020-11-01</th>\n      <td>0.87</td>\n    </tr>\n    <tr>\n      <th>2020-12-01</th>\n      <td>0.93</td>\n    </tr>\n    <tr>\n      <th>2021-01-01</th>\n      <td>1.08</td>\n    </tr>\n    <tr>\n      <th>2021-02-01</th>\n      <td>1.26</td>\n    </tr>\n    <tr>\n      <th>2021-03-01</th>\n      <td>1.61</td>\n    </tr>\n    <tr>\n      <th>2021-04-01</th>\n      <td>1.64</td>\n    </tr>\n    <tr>\n      <th>2021-05-01</th>\n      <td>1.62</td>\n    </tr>\n    <tr>\n      <th>2021-06-01</th>\n      <td>1.52</td>\n    </tr>\n    <tr>\n      <th>2021-07-01</th>\n      <td>1.32</td>\n    </tr>\n    <tr>\n      <th>2021-08-01</th>\n      <td>1.28</td>\n    </tr>\n    <tr>\n      <th>2021-09-01</th>\n      <td>1.37</td>\n    </tr>\n    <tr>\n      <th>2021-10-01</th>\n      <td>1.58</td>\n    </tr>\n    <tr>\n      <th>2021-11-01</th>\n      <td>1.56</td>\n    </tr>\n    <tr>\n      <th>2021-12-01</th>\n      <td>1.47</td>\n    </tr>\n    <tr>\n      <th>2022-01-01</th>\n      <td>1.76</td>\n    </tr>\n    <tr>\n      <th>2022-02-01</th>\n      <td>1.93</td>\n    </tr>\n    <tr>\n      <th>2022-03-01</th>\n      <td>2.13</td>\n    </tr>\n    <tr>\n      <th>2022-04-01</th>\n      <td>2.75</td>\n    </tr>\n  </tbody>\n</table>\n</div>"
     },
     "execution_count": 122,
     "metadata": {},
     "output_type": "execute_result"
    }
   ],
   "source": [
    "import pandas_datareader as pdr\n",
    "pdr.get_data_fred('GS10')"
   ],
   "metadata": {
    "collapsed": false,
    "pycharm": {
     "name": "#%%\n"
    }
   }
  },
  {
   "cell_type": "code",
   "execution_count": 126,
   "outputs": [
    {
     "name": "stderr",
     "output_type": "stream",
     "text": [
      "Exception in thread Thread-15:\n",
      "Traceback (most recent call last):\n",
      "  File \"/Users/david/opt/anaconda3/lib/python3.8/threading.py\", line 932, in _bootstrap_inner\n",
      "    self.run()\n",
      "  File \"/Users/david/opt/anaconda3/lib/python3.8/threading.py\", line 870, in run\n",
      "    self._target(*self._args, **self._kwargs)\n",
      "  File \"/Users/david/opt/anaconda3/lib/python3.8/site-packages/multitasking/__init__.py\", line 104, in _run_via_pool\n",
      "    return callee(*args, **kwargs)\n",
      "  File \"/Users/david/opt/anaconda3/lib/python3.8/site-packages/yfinance/multi.py\", line 188, in _download_one_threaded\n",
      "    data = _download_one(ticker, start, end, auto_adjust, back_adjust,\n",
      "  File \"/Users/david/opt/anaconda3/lib/python3.8/site-packages/yfinance/multi.py\", line 202, in _download_one\n",
      "    return Ticker(ticker).history(period=period, interval=interval,\n",
      "  File \"/Users/david/opt/anaconda3/lib/python3.8/site-packages/yfinance/base.py\", line 153, in history\n",
      "    _time.strptime(str(start), '%Y-%m-%d')))\n",
      "  File \"/Users/david/opt/anaconda3/lib/python3.8/_strptime.py\", line 562, in _strptime_time\n",
      "    tt = _strptime(data_string, format)[0]\n",
      "  File \"/Users/david/opt/anaconda3/lib/python3.8/_strptime.py\", line 349, in _strptime\n",
      "    raise ValueError(\"time data %r does not match format %r\" %\n",
      "ValueError: time data 'yahoo' does not match format '%Y-%m-%d'\n"
     ]
    },
    {
     "ename": "KeyboardInterrupt",
     "evalue": "",
     "output_type": "error",
     "traceback": [
      "\u001B[0;31m---------------------------------------------------------------------------\u001B[0m",
      "\u001B[0;31mKeyboardInterrupt\u001B[0m                         Traceback (most recent call last)",
      "Input \u001B[0;32mIn [126]\u001B[0m, in \u001B[0;36m<cell line: 2>\u001B[0;34m()\u001B[0m\n\u001B[1;32m      1\u001B[0m \u001B[38;5;28;01mimport\u001B[39;00m \u001B[38;5;21;01mpandas_datareader\u001B[39;00m\u001B[38;5;21;01m.\u001B[39;00m\u001B[38;5;21;01mdata\u001B[39;00m \u001B[38;5;28;01mas\u001B[39;00m \u001B[38;5;21;01mweb\u001B[39;00m\n\u001B[0;32m----> 2\u001B[0m \u001B[43mweb\u001B[49m\u001B[38;5;241;43m.\u001B[39;49m\u001B[43mDataReader\u001B[49m\u001B[43m(\u001B[49m\u001B[38;5;124;43m\"\u001B[39;49m\u001B[38;5;124;43m600797.SS\u001B[39;49m\u001B[38;5;124;43m\"\u001B[39;49m\u001B[43m,\u001B[49m\u001B[43m \u001B[49m\u001B[38;5;124;43m\"\u001B[39;49m\u001B[38;5;124;43myahoo\u001B[39;49m\u001B[38;5;124;43m\"\u001B[39;49m\u001B[43m,\u001B[49m\u001B[43m \u001B[49m\u001B[43mstartDate\u001B[49m\u001B[43m,\u001B[49m\u001B[43m \u001B[49m\u001B[43mendDate\u001B[49m\u001B[43m)\u001B[49m\n",
      "File \u001B[0;32m~/opt/anaconda3/lib/python3.8/site-packages/yfinance/multi.py:112\u001B[0m, in \u001B[0;36mdownload\u001B[0;34m(tickers, start, end, actions, threads, group_by, auto_adjust, back_adjust, progress, period, show_errors, interval, prepost, proxy, rounding, timeout, **kwargs)\u001B[0m\n\u001B[1;32m    105\u001B[0m         _download_one_threaded(ticker, period\u001B[38;5;241m=\u001B[39mperiod, interval\u001B[38;5;241m=\u001B[39minterval,\n\u001B[1;32m    106\u001B[0m                                start\u001B[38;5;241m=\u001B[39mstart, end\u001B[38;5;241m=\u001B[39mend, prepost\u001B[38;5;241m=\u001B[39mprepost,\n\u001B[1;32m    107\u001B[0m                                actions\u001B[38;5;241m=\u001B[39mactions, auto_adjust\u001B[38;5;241m=\u001B[39mauto_adjust,\n\u001B[1;32m    108\u001B[0m                                back_adjust\u001B[38;5;241m=\u001B[39mback_adjust,\n\u001B[1;32m    109\u001B[0m                                progress\u001B[38;5;241m=\u001B[39m(progress \u001B[38;5;129;01mand\u001B[39;00m i \u001B[38;5;241m>\u001B[39m \u001B[38;5;241m0\u001B[39m), proxy\u001B[38;5;241m=\u001B[39mproxy,\n\u001B[1;32m    110\u001B[0m                                rounding\u001B[38;5;241m=\u001B[39mrounding, timeout\u001B[38;5;241m=\u001B[39mtimeout)\n\u001B[1;32m    111\u001B[0m     \u001B[38;5;28;01mwhile\u001B[39;00m \u001B[38;5;28mlen\u001B[39m(shared\u001B[38;5;241m.\u001B[39m_DFS) \u001B[38;5;241m<\u001B[39m \u001B[38;5;28mlen\u001B[39m(tickers):\n\u001B[0;32m--> 112\u001B[0m         \u001B[43m_time\u001B[49m\u001B[38;5;241;43m.\u001B[39;49m\u001B[43msleep\u001B[49m\u001B[43m(\u001B[49m\u001B[38;5;241;43m0.01\u001B[39;49m\u001B[43m)\u001B[49m\n\u001B[1;32m    114\u001B[0m \u001B[38;5;66;03m# download synchronously\u001B[39;00m\n\u001B[1;32m    115\u001B[0m \u001B[38;5;28;01melse\u001B[39;00m:\n\u001B[1;32m    116\u001B[0m     \u001B[38;5;28;01mfor\u001B[39;00m i, ticker \u001B[38;5;129;01min\u001B[39;00m \u001B[38;5;28menumerate\u001B[39m(tickers):\n",
      "\u001B[0;31mKeyboardInterrupt\u001B[0m: "
     ]
    }
   ],
   "source": [
    "import pandas_datareader.data as web\n",
    "web.DataReader(\"600797.SS\", \"yahoo\", startDate, endDate)"
   ],
   "metadata": {
    "collapsed": false,
    "pycharm": {
     "name": "#%%\n"
    }
   }
  },
  {
   "cell_type": "code",
   "execution_count": 1,
   "outputs": [
    {
     "data": {
      "text/plain": "Attributes    Close                     High                       Low  \\\nSymbols        MSFT     DAX BABA.US     MSFT     DAX BABA.US      MSFT   \n2017-01-03   58.064  22.155   88.60   58.306  22.164   89.00   57.6450   \n2017-01-04   57.805  22.325   90.51   58.222  22.325   90.89   57.6400   \n2017-01-05   57.805  22.536   94.37   58.140  22.552   94.81   57.5520   \n2017-01-06   58.306  22.465   93.89   58.594  22.527   94.50   57.5620   \n2017-01-09   58.122  22.447   94.72   58.531  22.474   95.65   58.0270   \n...             ...     ...     ...      ...     ...     ...       ...   \n2022-04-28  289.630  26.460   90.91  290.980  26.480   90.98  281.4562   \n2022-04-29  277.520  26.240   97.09  289.880  26.790  103.52  276.5000   \n2022-05-02  284.470  26.190  101.21  284.940  26.330  101.32  276.2200   \n2022-05-03  281.780  26.330  100.38  284.130  26.375  102.69  280.1500   \n2022-05-04  289.980  26.960  101.41  290.880  26.960  101.57  276.7300   \n\nAttributes                     Open                       Volume           \\\nSymbols        DAX BABA.US     MSFT     DAX  BABA.US        MSFT      DAX   \n2017-01-03  22.075   88.08   58.261  22.155   89.000  21350078.0   8954.0   \n2017-01-04  22.076   88.58   57.972  22.076   88.985  18179213.0   9184.0   \n2017-01-05  22.262   91.64   57.703  22.262   91.910  23015813.0   4803.0   \n2017-01-06  22.465   93.00   57.805  22.527   94.400  18941262.0   2555.0   \n2017-01-09  22.342   93.31   58.231  22.342   94.160  20039290.0   1540.0   \n...            ...     ...      ...     ...      ...         ...      ...   \n2022-04-28  25.940   86.94  285.185  26.410   88.620  33646570.0  28689.0   \n2022-04-29  26.190   96.66  288.610  26.590  101.530  37073923.0  39711.0   \n2022-05-02  25.910   95.15  277.710  26.180   96.410  35151105.0  55171.0   \n2022-05-03  26.250   99.43  283.960  26.360  100.130  25978605.0  10755.0   \n2022-05-04  26.340   96.61  282.590  26.490   97.720  33599320.0  16023.0   \n\nAttributes              \nSymbols        BABA.US  \n2017-01-03   8787301.0  \n2017-01-04  11462690.0  \n2017-01-05  16787882.0  \n2017-01-06   7597313.0  \n2017-01-09  10817809.0  \n...                ...  \n2022-04-28  17707498.0  \n2022-04-29  44933353.0  \n2022-05-02  25479548.0  \n2022-05-03  15216107.0  \n2022-05-04  17740624.0  \n\n[1344 rows x 15 columns]",
      "text/html": "<div>\n<style scoped>\n    .dataframe tbody tr th:only-of-type {\n        vertical-align: middle;\n    }\n\n    .dataframe tbody tr th {\n        vertical-align: top;\n    }\n\n    .dataframe thead tr th {\n        text-align: left;\n    }\n</style>\n<table border=\"1\" class=\"dataframe\">\n  <thead>\n    <tr>\n      <th>Attributes</th>\n      <th colspan=\"3\" halign=\"left\">Close</th>\n      <th colspan=\"3\" halign=\"left\">High</th>\n      <th colspan=\"3\" halign=\"left\">Low</th>\n      <th colspan=\"3\" halign=\"left\">Open</th>\n      <th colspan=\"3\" halign=\"left\">Volume</th>\n    </tr>\n    <tr>\n      <th>Symbols</th>\n      <th>MSFT</th>\n      <th>DAX</th>\n      <th>BABA.US</th>\n      <th>MSFT</th>\n      <th>DAX</th>\n      <th>BABA.US</th>\n      <th>MSFT</th>\n      <th>DAX</th>\n      <th>BABA.US</th>\n      <th>MSFT</th>\n      <th>DAX</th>\n      <th>BABA.US</th>\n      <th>MSFT</th>\n      <th>DAX</th>\n      <th>BABA.US</th>\n    </tr>\n  </thead>\n  <tbody>\n    <tr>\n      <th>2017-01-03</th>\n      <td>58.064</td>\n      <td>22.155</td>\n      <td>88.60</td>\n      <td>58.306</td>\n      <td>22.164</td>\n      <td>89.00</td>\n      <td>57.6450</td>\n      <td>22.075</td>\n      <td>88.08</td>\n      <td>58.261</td>\n      <td>22.155</td>\n      <td>89.000</td>\n      <td>21350078.0</td>\n      <td>8954.0</td>\n      <td>8787301.0</td>\n    </tr>\n    <tr>\n      <th>2017-01-04</th>\n      <td>57.805</td>\n      <td>22.325</td>\n      <td>90.51</td>\n      <td>58.222</td>\n      <td>22.325</td>\n      <td>90.89</td>\n      <td>57.6400</td>\n      <td>22.076</td>\n      <td>88.58</td>\n      <td>57.972</td>\n      <td>22.076</td>\n      <td>88.985</td>\n      <td>18179213.0</td>\n      <td>9184.0</td>\n      <td>11462690.0</td>\n    </tr>\n    <tr>\n      <th>2017-01-05</th>\n      <td>57.805</td>\n      <td>22.536</td>\n      <td>94.37</td>\n      <td>58.140</td>\n      <td>22.552</td>\n      <td>94.81</td>\n      <td>57.5520</td>\n      <td>22.262</td>\n      <td>91.64</td>\n      <td>57.703</td>\n      <td>22.262</td>\n      <td>91.910</td>\n      <td>23015813.0</td>\n      <td>4803.0</td>\n      <td>16787882.0</td>\n    </tr>\n    <tr>\n      <th>2017-01-06</th>\n      <td>58.306</td>\n      <td>22.465</td>\n      <td>93.89</td>\n      <td>58.594</td>\n      <td>22.527</td>\n      <td>94.50</td>\n      <td>57.5620</td>\n      <td>22.465</td>\n      <td>93.00</td>\n      <td>57.805</td>\n      <td>22.527</td>\n      <td>94.400</td>\n      <td>18941262.0</td>\n      <td>2555.0</td>\n      <td>7597313.0</td>\n    </tr>\n    <tr>\n      <th>2017-01-09</th>\n      <td>58.122</td>\n      <td>22.447</td>\n      <td>94.72</td>\n      <td>58.531</td>\n      <td>22.474</td>\n      <td>95.65</td>\n      <td>58.0270</td>\n      <td>22.342</td>\n      <td>93.31</td>\n      <td>58.231</td>\n      <td>22.342</td>\n      <td>94.160</td>\n      <td>20039290.0</td>\n      <td>1540.0</td>\n      <td>10817809.0</td>\n    </tr>\n    <tr>\n      <th>...</th>\n      <td>...</td>\n      <td>...</td>\n      <td>...</td>\n      <td>...</td>\n      <td>...</td>\n      <td>...</td>\n      <td>...</td>\n      <td>...</td>\n      <td>...</td>\n      <td>...</td>\n      <td>...</td>\n      <td>...</td>\n      <td>...</td>\n      <td>...</td>\n      <td>...</td>\n    </tr>\n    <tr>\n      <th>2022-04-28</th>\n      <td>289.630</td>\n      <td>26.460</td>\n      <td>90.91</td>\n      <td>290.980</td>\n      <td>26.480</td>\n      <td>90.98</td>\n      <td>281.4562</td>\n      <td>25.940</td>\n      <td>86.94</td>\n      <td>285.185</td>\n      <td>26.410</td>\n      <td>88.620</td>\n      <td>33646570.0</td>\n      <td>28689.0</td>\n      <td>17707498.0</td>\n    </tr>\n    <tr>\n      <th>2022-04-29</th>\n      <td>277.520</td>\n      <td>26.240</td>\n      <td>97.09</td>\n      <td>289.880</td>\n      <td>26.790</td>\n      <td>103.52</td>\n      <td>276.5000</td>\n      <td>26.190</td>\n      <td>96.66</td>\n      <td>288.610</td>\n      <td>26.590</td>\n      <td>101.530</td>\n      <td>37073923.0</td>\n      <td>39711.0</td>\n      <td>44933353.0</td>\n    </tr>\n    <tr>\n      <th>2022-05-02</th>\n      <td>284.470</td>\n      <td>26.190</td>\n      <td>101.21</td>\n      <td>284.940</td>\n      <td>26.330</td>\n      <td>101.32</td>\n      <td>276.2200</td>\n      <td>25.910</td>\n      <td>95.15</td>\n      <td>277.710</td>\n      <td>26.180</td>\n      <td>96.410</td>\n      <td>35151105.0</td>\n      <td>55171.0</td>\n      <td>25479548.0</td>\n    </tr>\n    <tr>\n      <th>2022-05-03</th>\n      <td>281.780</td>\n      <td>26.330</td>\n      <td>100.38</td>\n      <td>284.130</td>\n      <td>26.375</td>\n      <td>102.69</td>\n      <td>280.1500</td>\n      <td>26.250</td>\n      <td>99.43</td>\n      <td>283.960</td>\n      <td>26.360</td>\n      <td>100.130</td>\n      <td>25978605.0</td>\n      <td>10755.0</td>\n      <td>15216107.0</td>\n    </tr>\n    <tr>\n      <th>2022-05-04</th>\n      <td>289.980</td>\n      <td>26.960</td>\n      <td>101.41</td>\n      <td>290.880</td>\n      <td>26.960</td>\n      <td>101.57</td>\n      <td>276.7300</td>\n      <td>26.340</td>\n      <td>96.61</td>\n      <td>282.590</td>\n      <td>26.490</td>\n      <td>97.720</td>\n      <td>33599320.0</td>\n      <td>16023.0</td>\n      <td>17740624.0</td>\n    </tr>\n  </tbody>\n</table>\n<p>1344 rows × 15 columns</p>\n</div>"
     },
     "execution_count": 1,
     "metadata": {},
     "output_type": "execute_result"
    }
   ],
   "source": [
    "import pandas_datareader.data as web\n",
    "import datetime\n",
    "\n",
    "\n",
    "start=datetime.datetime(2017, 1, 1)\n",
    "end=datetime.datetime.today()\n",
    "microsoft=web.get_data_stooq(['MSFT','DAX','BABA.US','STO.US'],start,end)\n",
    "microsoft"
   ],
   "metadata": {
    "collapsed": false,
    "pycharm": {
     "name": "#%%\n"
    }
   }
  },
  {
   "cell_type": "code",
   "execution_count": 137,
   "outputs": [],
   "source": [],
   "metadata": {
    "collapsed": false,
    "pycharm": {
     "name": "#%%\n"
    }
   }
  },
  {
   "cell_type": "code",
   "execution_count": null,
   "outputs": [],
   "source": [
    "import tushare as ts\n",
    "import datetime as dt\n",
    "import matplotlib.pyplot as plt\n",
    "import pandas as pd\n",
    "import numpy as np\n",
    "import pandas_datareader.data as web\n",
    "\n",
    "def get_data(stocks, start, end):\n",
    "    stockData = web.get_data_stooq(stocks,start,end)\n",
    "    stockData = stockData['Close']\n",
    "    returns = stockData.pct_change()\n",
    "    meanReturns = returns.mean()\n",
    "    covMatrix = returns.cov()\n",
    "    return meanReturns, covMatrix\n",
    "\n",
    "\n",
    "stockList = ['BABA.US','NIO.US','TWTR.US','GDX.US','700.HK','3799.HK']\n",
    "endDate = dt.datetime.now()\n",
    "startDate = endDate - dt.timedelta(days=300)\n",
    "\n",
    "meanReturns, covMatrix = get_data(stockList, startDate, endDate)\n",
    "\n",
    "weights = np.random.random(len(meanReturns))\n",
    "weights /= np.sum(weights)\n",
    "\n",
    "mc_sims = 100\n",
    "T = 100\n",
    "meanM = np.full(shape=(T, len(weights)), fill_value=meanReturns)\n",
    "meanM = meanM.T\n",
    "\n",
    "portfolio_sims = np.full(shape=(T, mc_sims),fill_value=0.0)\n",
    "initial_portfolio = 10000\n",
    "for m in range(0, mc_sims):\n",
    "    Z = np.random.normal(size=(T,len(weights)))\n",
    "    L = np.linalg.cholesky(covMatrix)\n",
    "    dailyReturns = meanM + np.inner(L, Z)\n",
    "    portfolio_sims[:,m] = np.cumprod(np.inner(weights, dailyReturns.T)+1)*initial_portfolio\n",
    "\n",
    "plt.plot(portfolio_sims)\n",
    "plt.ylabel('Portfolio Value($)')\n",
    "plt.xlabel('Days')\n",
    "plt.title(\"Monte Carlo Simulation of a stock portfolio\")\n",
    "plt.show()"
   ],
   "metadata": {
    "collapsed": false,
    "pycharm": {
     "name": "#%%\n",
     "is_executing": true
    }
   }
  },
  {
   "cell_type": "code",
   "execution_count": null,
   "outputs": [],
   "source": [
    "from monte_carlo_simulation import monte_carlo\n",
    "stockList = ['BABA.US','NIO.US','TWTR.US','GDX.US','700.HK','3799.HK']\n",
    "mc_sims = 100\n",
    "T = 100\n",
    "initial_portfolio = 10000\n",
    "days_back = 300\n",
    "m = monte_carlo.MonteCarloEstimator(stockList, mc_sims, T, initial_portfolio, days_back)"
   ],
   "metadata": {
    "collapsed": false,
    "pycharm": {
     "name": "#%%\n",
     "is_executing": true
    }
   }
  },
  {
   "cell_type": "code",
   "execution_count": null,
   "outputs": [],
   "source": [],
   "metadata": {
    "collapsed": false,
    "pycharm": {
     "name": "#%%\n"
    }
   }
  }
 ],
 "metadata": {
  "kernelspec": {
   "display_name": "Python 3",
   "language": "python",
   "name": "python3"
  },
  "language_info": {
   "codemirror_mode": {
    "name": "ipython",
    "version": 3
   },
   "file_extension": ".py",
   "mimetype": "text/x-python",
   "name": "python",
   "nbconvert_exporter": "python",
   "pygments_lexer": "ipython3",
   "version": "3.8.8"
  },
  "latex_envs": {
   "LaTeX_envs_menu_present": true,
   "autoclose": false,
   "autocomplete": true,
   "bibliofile": "biblio.bib",
   "cite_by": "apalike",
   "current_citInitial": 1,
   "eqLabelWithNumbers": true,
   "eqNumInitial": 1,
   "hotkeys": {
    "equation": "Ctrl-E",
    "itemize": "Ctrl-I"
   },
   "labels_anchors": false,
   "latex_user_defs": false,
   "report_style_numbering": false,
   "user_envs_cfg": false
  },
  "toc": {
   "base_numbering": 1,
   "nav_menu": {},
   "number_sections": true,
   "sideBar": true,
   "skip_h1_title": false,
   "title_cell": "Table of Contents",
   "title_sidebar": "Contents",
   "toc_cell": false,
   "toc_position": {},
   "toc_section_display": true,
   "toc_window_display": false
  },
  "varInspector": {
   "cols": {
    "lenName": 16,
    "lenType": 16,
    "lenVar": 40
   },
   "kernels_config": {
    "python": {
     "delete_cmd_postfix": "",
     "delete_cmd_prefix": "del ",
     "library": "var_list.py",
     "varRefreshCmd": "print(var_dic_list())"
    },
    "r": {
     "delete_cmd_postfix": ") ",
     "delete_cmd_prefix": "rm(",
     "library": "var_list.r",
     "varRefreshCmd": "cat(var_dic_list()) "
    }
   },
   "types_to_exclude": [
    "module",
    "function",
    "builtin_function_or_method",
    "instance",
    "_Feature"
   ],
   "window_display": false
  }
 },
 "nbformat": 4,
 "nbformat_minor": 1
}